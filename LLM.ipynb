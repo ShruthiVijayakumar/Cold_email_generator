{
 "cells": [
  {
   "cell_type": "code",
   "execution_count": 29,
   "metadata": {},
   "outputs": [
    {
     "name": "stdout",
     "output_type": "stream",
     "text": [
      "Collecting streamlit\n",
      "  Downloading streamlit-1.38.0-py2.py3-none-any.whl.metadata (8.5 kB)\n",
      "Collecting altair<6,>=4.0 (from streamlit)\n",
      "  Downloading altair-5.4.1-py3-none-any.whl.metadata (9.4 kB)\n",
      "Collecting blinker<2,>=1.0.0 (from streamlit)\n",
      "  Downloading blinker-1.8.2-py3-none-any.whl.metadata (1.6 kB)\n",
      "Requirement already satisfied: cachetools<6,>=4.0 in c:\\users\\shrut\\onedrive\\documents\\llama_3.1\\llm_env\\lib\\site-packages (from streamlit) (5.5.0)\n",
      "Requirement already satisfied: click<9,>=7.0 in c:\\users\\shrut\\onedrive\\documents\\llama_3.1\\llm_env\\lib\\site-packages (from streamlit) (8.1.7)\n",
      "Requirement already satisfied: numpy<3,>=1.20 in c:\\users\\shrut\\onedrive\\documents\\llama_3.1\\llm_env\\lib\\site-packages (from streamlit) (1.26.4)\n",
      "Requirement already satisfied: packaging<25,>=20 in c:\\users\\shrut\\onedrive\\documents\\llama_3.1\\llm_env\\lib\\site-packages (from streamlit) (24.1)\n",
      "Requirement already satisfied: pandas<3,>=1.3.0 in c:\\users\\shrut\\onedrive\\documents\\llama_3.1\\llm_env\\lib\\site-packages (from streamlit) (2.2.2)\n",
      "Collecting pillow<11,>=7.1.0 (from streamlit)\n",
      "  Downloading pillow-10.4.0-cp312-cp312-win_amd64.whl.metadata (9.3 kB)\n",
      "Requirement already satisfied: protobuf<6,>=3.20 in c:\\users\\shrut\\onedrive\\documents\\llama_3.1\\llm_env\\lib\\site-packages (from streamlit) (4.25.4)\n",
      "Collecting pyarrow>=7.0 (from streamlit)\n",
      "  Downloading pyarrow-17.0.0-cp312-cp312-win_amd64.whl.metadata (3.4 kB)\n",
      "Requirement already satisfied: requests<3,>=2.27 in c:\\users\\shrut\\onedrive\\documents\\llama_3.1\\llm_env\\lib\\site-packages (from streamlit) (2.32.3)\n",
      "Requirement already satisfied: rich<14,>=10.14.0 in c:\\users\\shrut\\onedrive\\documents\\llama_3.1\\llm_env\\lib\\site-packages (from streamlit) (13.8.0)\n",
      "Requirement already satisfied: tenacity<9,>=8.1.0 in c:\\users\\shrut\\onedrive\\documents\\llama_3.1\\llm_env\\lib\\site-packages (from streamlit) (8.5.0)\n",
      "Collecting toml<2,>=0.10.1 (from streamlit)\n",
      "  Downloading toml-0.10.2-py2.py3-none-any.whl.metadata (7.1 kB)\n",
      "Requirement already satisfied: typing-extensions<5,>=4.3.0 in c:\\users\\shrut\\onedrive\\documents\\llama_3.1\\llm_env\\lib\\site-packages (from streamlit) (4.12.2)\n",
      "Collecting gitpython!=3.1.19,<4,>=3.0.7 (from streamlit)\n",
      "  Downloading GitPython-3.1.43-py3-none-any.whl.metadata (13 kB)\n",
      "Collecting pydeck<1,>=0.8.0b4 (from streamlit)\n",
      "  Downloading pydeck-0.9.1-py2.py3-none-any.whl.metadata (4.1 kB)\n",
      "Requirement already satisfied: tornado<7,>=6.0.3 in c:\\users\\shrut\\onedrive\\documents\\llama_3.1\\llm_env\\lib\\site-packages (from streamlit) (6.4.1)\n",
      "Collecting watchdog<5,>=2.1.5 (from streamlit)\n",
      "  Downloading watchdog-4.0.2-py3-none-win_amd64.whl.metadata (38 kB)\n",
      "Collecting jinja2 (from altair<6,>=4.0->streamlit)\n",
      "  Downloading jinja2-3.1.4-py3-none-any.whl.metadata (2.6 kB)\n",
      "Collecting jsonschema>=3.0 (from altair<6,>=4.0->streamlit)\n",
      "  Downloading jsonschema-4.23.0-py3-none-any.whl.metadata (7.9 kB)\n",
      "Collecting narwhals>=1.5.2 (from altair<6,>=4.0->streamlit)\n",
      "  Downloading narwhals-1.6.2-py3-none-any.whl.metadata (5.8 kB)\n",
      "Requirement already satisfied: colorama in c:\\users\\shrut\\onedrive\\documents\\llama_3.1\\llm_env\\lib\\site-packages (from click<9,>=7.0->streamlit) (0.4.6)\n",
      "Collecting gitdb<5,>=4.0.1 (from gitpython!=3.1.19,<4,>=3.0.7->streamlit)\n",
      "  Downloading gitdb-4.0.11-py3-none-any.whl.metadata (1.2 kB)\n",
      "Requirement already satisfied: python-dateutil>=2.8.2 in c:\\users\\shrut\\onedrive\\documents\\llama_3.1\\llm_env\\lib\\site-packages (from pandas<3,>=1.3.0->streamlit) (2.9.0.post0)\n",
      "Requirement already satisfied: pytz>=2020.1 in c:\\users\\shrut\\onedrive\\documents\\llama_3.1\\llm_env\\lib\\site-packages (from pandas<3,>=1.3.0->streamlit) (2024.1)\n",
      "Requirement already satisfied: tzdata>=2022.7 in c:\\users\\shrut\\onedrive\\documents\\llama_3.1\\llm_env\\lib\\site-packages (from pandas<3,>=1.3.0->streamlit) (2024.1)\n",
      "Requirement already satisfied: charset-normalizer<4,>=2 in c:\\users\\shrut\\onedrive\\documents\\llama_3.1\\llm_env\\lib\\site-packages (from requests<3,>=2.27->streamlit) (3.3.2)\n",
      "Requirement already satisfied: idna<4,>=2.5 in c:\\users\\shrut\\onedrive\\documents\\llama_3.1\\llm_env\\lib\\site-packages (from requests<3,>=2.27->streamlit) (3.8)\n",
      "Requirement already satisfied: urllib3<3,>=1.21.1 in c:\\users\\shrut\\onedrive\\documents\\llama_3.1\\llm_env\\lib\\site-packages (from requests<3,>=2.27->streamlit) (2.2.2)\n",
      "Requirement already satisfied: certifi>=2017.4.17 in c:\\users\\shrut\\onedrive\\documents\\llama_3.1\\llm_env\\lib\\site-packages (from requests<3,>=2.27->streamlit) (2024.8.30)\n",
      "Requirement already satisfied: markdown-it-py>=2.2.0 in c:\\users\\shrut\\onedrive\\documents\\llama_3.1\\llm_env\\lib\\site-packages (from rich<14,>=10.14.0->streamlit) (3.0.0)\n",
      "Requirement already satisfied: pygments<3.0.0,>=2.13.0 in c:\\users\\shrut\\onedrive\\documents\\llama_3.1\\llm_env\\lib\\site-packages (from rich<14,>=10.14.0->streamlit) (2.18.0)\n",
      "Collecting smmap<6,>=3.0.1 (from gitdb<5,>=4.0.1->gitpython!=3.1.19,<4,>=3.0.7->streamlit)\n",
      "  Downloading smmap-5.0.1-py3-none-any.whl.metadata (4.3 kB)\n",
      "Collecting MarkupSafe>=2.0 (from jinja2->altair<6,>=4.0->streamlit)\n",
      "  Downloading MarkupSafe-2.1.5-cp312-cp312-win_amd64.whl.metadata (3.1 kB)\n",
      "Requirement already satisfied: attrs>=22.2.0 in c:\\users\\shrut\\onedrive\\documents\\llama_3.1\\llm_env\\lib\\site-packages (from jsonschema>=3.0->altair<6,>=4.0->streamlit) (24.2.0)\n",
      "Collecting jsonschema-specifications>=2023.03.6 (from jsonschema>=3.0->altair<6,>=4.0->streamlit)\n",
      "  Downloading jsonschema_specifications-2023.12.1-py3-none-any.whl.metadata (3.0 kB)\n",
      "Collecting referencing>=0.28.4 (from jsonschema>=3.0->altair<6,>=4.0->streamlit)\n",
      "  Downloading referencing-0.35.1-py3-none-any.whl.metadata (2.8 kB)\n",
      "Collecting rpds-py>=0.7.1 (from jsonschema>=3.0->altair<6,>=4.0->streamlit)\n",
      "  Downloading rpds_py-0.20.0-cp312-none-win_amd64.whl.metadata (4.2 kB)\n",
      "Requirement already satisfied: mdurl~=0.1 in c:\\users\\shrut\\onedrive\\documents\\llama_3.1\\llm_env\\lib\\site-packages (from markdown-it-py>=2.2.0->rich<14,>=10.14.0->streamlit) (0.1.2)\n",
      "Requirement already satisfied: six>=1.5 in c:\\users\\shrut\\onedrive\\documents\\llama_3.1\\llm_env\\lib\\site-packages (from python-dateutil>=2.8.2->pandas<3,>=1.3.0->streamlit) (1.16.0)\n",
      "Downloading streamlit-1.38.0-py2.py3-none-any.whl (8.7 MB)\n",
      "   ---------------------------------------- 0.0/8.7 MB ? eta -:--:--\n",
      "   ---- ----------------------------------- 1.0/8.7 MB 6.3 MB/s eta 0:00:02\n",
      "   ---------- ----------------------------- 2.4/8.7 MB 6.4 MB/s eta 0:00:01\n",
      "   ---------------- ----------------------- 3.7/8.7 MB 6.4 MB/s eta 0:00:01\n",
      "   ----------------------- ---------------- 5.2/8.7 MB 6.5 MB/s eta 0:00:01\n",
      "   ----------------------------- ---------- 6.6/8.7 MB 6.5 MB/s eta 0:00:01\n",
      "   ----------------------------------- ---- 7.9/8.7 MB 6.5 MB/s eta 0:00:01\n",
      "   ---------------------------------------- 8.7/8.7 MB 6.3 MB/s eta 0:00:00\n",
      "Downloading altair-5.4.1-py3-none-any.whl (658 kB)\n",
      "   ---------------------------------------- 0.0/658.1 kB ? eta -:--:--\n",
      "   ---------------------------------------- 658.1/658.1 kB 5.0 MB/s eta 0:00:00\n",
      "Downloading blinker-1.8.2-py3-none-any.whl (9.5 kB)\n",
      "Downloading GitPython-3.1.43-py3-none-any.whl (207 kB)\n",
      "Downloading pillow-10.4.0-cp312-cp312-win_amd64.whl (2.6 MB)\n",
      "   ---------------------------------------- 0.0/2.6 MB ? eta -:--:--\n",
      "   ---------------- ----------------------- 1.0/2.6 MB 6.3 MB/s eta 0:00:01\n",
      "   ---------------------------------------- 2.6/2.6 MB 6.1 MB/s eta 0:00:00\n",
      "Downloading pyarrow-17.0.0-cp312-cp312-win_amd64.whl (25.1 MB)\n",
      "   ---------------------------------------- 0.0/25.1 MB ? eta -:--:--\n",
      "   -- ------------------------------------- 1.3/25.1 MB 6.1 MB/s eta 0:00:04\n",
      "   --- ------------------------------------ 2.1/25.1 MB 5.1 MB/s eta 0:00:05\n",
      "   ---- ----------------------------------- 2.6/25.1 MB 4.1 MB/s eta 0:00:06\n",
      "   ---- ----------------------------------- 2.9/25.1 MB 3.6 MB/s eta 0:00:07\n",
      "   ----- ---------------------------------- 3.4/25.1 MB 3.3 MB/s eta 0:00:07\n",
      "   ------ --------------------------------- 3.9/25.1 MB 3.1 MB/s eta 0:00:07\n",
      "   ------- -------------------------------- 4.5/25.1 MB 2.9 MB/s eta 0:00:08\n",
      "   --------- ------------------------------ 5.8/25.1 MB 3.3 MB/s eta 0:00:06\n",
      "   ----------- ---------------------------- 7.1/25.1 MB 3.7 MB/s eta 0:00:05\n",
      "   ------------- -------------------------- 8.4/25.1 MB 4.0 MB/s eta 0:00:05\n",
      "   --------------- ------------------------ 10.0/25.1 MB 4.2 MB/s eta 0:00:04\n",
      "   ----------------- ---------------------- 11.0/25.1 MB 4.3 MB/s eta 0:00:04\n",
      "   ------------------- -------------------- 12.3/25.1 MB 4.5 MB/s eta 0:00:03\n",
      "   ---------------------- ----------------- 13.9/25.1 MB 4.6 MB/s eta 0:00:03\n",
      "   ------------------------ --------------- 15.2/25.1 MB 4.8 MB/s eta 0:00:03\n",
      "   -------------------------- ------------- 16.5/25.1 MB 4.9 MB/s eta 0:00:02\n",
      "   ---------------------------- ----------- 17.8/25.1 MB 5.0 MB/s eta 0:00:02\n",
      "   ------------------------------ --------- 19.4/25.1 MB 5.0 MB/s eta 0:00:02\n",
      "   --------------------------------- ------ 20.7/25.1 MB 5.1 MB/s eta 0:00:01\n",
      "   ----------------------------------- ---- 22.0/25.1 MB 5.2 MB/s eta 0:00:01\n",
      "   ------------------------------------- -- 23.6/25.1 MB 5.3 MB/s eta 0:00:01\n",
      "   ---------------------------------------  24.6/25.1 MB 5.3 MB/s eta 0:00:01\n",
      "   ---------------------------------------- 25.1/25.1 MB 5.2 MB/s eta 0:00:00\n",
      "Downloading pydeck-0.9.1-py2.py3-none-any.whl (6.9 MB)\n",
      "   ---------------------------------------- 0.0/6.9 MB ? eta -:--:--\n",
      "   ------- -------------------------------- 1.3/6.9 MB 6.7 MB/s eta 0:00:01\n",
      "   --------------- ------------------------ 2.6/6.9 MB 6.6 MB/s eta 0:00:01\n",
      "   ---------------------- ----------------- 3.9/6.9 MB 6.5 MB/s eta 0:00:01\n",
      "   ------------------------------- -------- 5.5/6.9 MB 6.5 MB/s eta 0:00:01\n",
      "   ---------------------------------------  6.8/6.9 MB 6.6 MB/s eta 0:00:01\n",
      "   ---------------------------------------- 6.9/6.9 MB 6.3 MB/s eta 0:00:00\n",
      "Downloading toml-0.10.2-py2.py3-none-any.whl (16 kB)\n",
      "Downloading watchdog-4.0.2-py3-none-win_amd64.whl (82 kB)\n",
      "Downloading gitdb-4.0.11-py3-none-any.whl (62 kB)\n",
      "Downloading jinja2-3.1.4-py3-none-any.whl (133 kB)\n",
      "Downloading jsonschema-4.23.0-py3-none-any.whl (88 kB)\n",
      "Downloading narwhals-1.6.2-py3-none-any.whl (159 kB)\n",
      "Downloading jsonschema_specifications-2023.12.1-py3-none-any.whl (18 kB)\n",
      "Downloading MarkupSafe-2.1.5-cp312-cp312-win_amd64.whl (17 kB)\n",
      "Downloading referencing-0.35.1-py3-none-any.whl (26 kB)\n",
      "Downloading rpds_py-0.20.0-cp312-none-win_amd64.whl (214 kB)\n",
      "Downloading smmap-5.0.1-py3-none-any.whl (24 kB)\n",
      "Installing collected packages: watchdog, toml, smmap, rpds-py, pyarrow, pillow, narwhals, MarkupSafe, blinker, referencing, jinja2, gitdb, pydeck, jsonschema-specifications, gitpython, jsonschema, altair, streamlit\n",
      "Successfully installed MarkupSafe-2.1.5 altair-5.4.1 blinker-1.8.2 gitdb-4.0.11 gitpython-3.1.43 jinja2-3.1.4 jsonschema-4.23.0 jsonschema-specifications-2023.12.1 narwhals-1.6.2 pillow-10.4.0 pyarrow-17.0.0 pydeck-0.9.1 referencing-0.35.1 rpds-py-0.20.0 smmap-5.0.1 streamlit-1.38.0 toml-0.10.2 watchdog-4.0.2\n",
      "Note: you may need to restart the kernel to use updated packages.\n"
     ]
    }
   ],
   "source": [
    "%pip install streamlit"
   ]
  },
  {
   "cell_type": "code",
   "execution_count": 1,
   "metadata": {},
   "outputs": [
    {
     "name": "stdout",
     "output_type": "stream",
     "text": [
      "Collecting numpy\n",
      "  Downloading numpy-2.1.1-cp312-cp312-win_amd64.whl.metadata (59 kB)\n",
      "Downloading numpy-2.1.1-cp312-cp312-win_amd64.whl (12.6 MB)\n",
      "   ---------------------------------------- 0.0/12.6 MB ? eta -:--:--\n",
      "   --- ------------------------------------ 1.0/12.6 MB 6.3 MB/s eta 0:00:02\n",
      "   ------- -------------------------------- 2.4/12.6 MB 6.1 MB/s eta 0:00:02\n",
      "   ----------- ---------------------------- 3.7/12.6 MB 6.1 MB/s eta 0:00:02\n",
      "   --------------- ------------------------ 5.0/12.6 MB 6.3 MB/s eta 0:00:02\n",
      "   -------------------- ------------------- 6.3/12.6 MB 6.3 MB/s eta 0:00:01\n",
      "   ------------------------- -------------- 7.9/12.6 MB 6.3 MB/s eta 0:00:01\n",
      "   ----------------------------- ---------- 9.2/12.6 MB 6.3 MB/s eta 0:00:01\n",
      "   --------------------------------- ------ 10.5/12.6 MB 6.4 MB/s eta 0:00:01\n",
      "   -------------------------------------- - 12.1/12.6 MB 6.3 MB/s eta 0:00:01\n",
      "   ---------------------------------------- 12.6/12.6 MB 6.2 MB/s eta 0:00:00\n",
      "Installing collected packages: numpy\n",
      "Successfully installed numpy-2.1.1\n"
     ]
    }
   ],
   "source": [
    "%pip install numpy"
   ]
  },
  {
   "cell_type": "code",
   "execution_count": 2,
   "metadata": {},
   "outputs": [
    {
     "name": "stdout",
     "output_type": "stream",
     "text": [
      "Collecting Langchain\n",
      "  Downloading langchain-0.2.16-py3-none-any.whl.metadata (7.1 kB)\n",
      "Collecting PyYAML>=5.3 (from Langchain)\n",
      "  Downloading PyYAML-6.0.2-cp312-cp312-win_amd64.whl.metadata (2.1 kB)\n",
      "Collecting SQLAlchemy<3,>=1.4 (from Langchain)\n",
      "  Downloading SQLAlchemy-2.0.34-cp312-cp312-win_amd64.whl.metadata (9.9 kB)\n",
      "Collecting aiohttp<4.0.0,>=3.8.3 (from Langchain)\n",
      "  Downloading aiohttp-3.10.5-cp312-cp312-win_amd64.whl.metadata (7.8 kB)\n",
      "Collecting langchain-core<0.3.0,>=0.2.38 (from Langchain)\n",
      "  Downloading langchain_core-0.2.38-py3-none-any.whl.metadata (6.2 kB)\n",
      "Collecting langchain-text-splitters<0.3.0,>=0.2.0 (from Langchain)\n",
      "  Downloading langchain_text_splitters-0.2.4-py3-none-any.whl.metadata (2.3 kB)\n",
      "Collecting langsmith<0.2.0,>=0.1.17 (from Langchain)\n",
      "  Downloading langsmith-0.1.114-py3-none-any.whl.metadata (13 kB)\n",
      "Collecting numpy<2.0.0,>=1.26.0 (from Langchain)\n",
      "  Downloading numpy-1.26.4-cp312-cp312-win_amd64.whl.metadata (61 kB)\n",
      "Collecting pydantic<3,>=1 (from Langchain)\n",
      "  Downloading pydantic-2.8.2-py3-none-any.whl.metadata (125 kB)\n",
      "Collecting requests<3,>=2 (from Langchain)\n",
      "  Downloading requests-2.32.3-py3-none-any.whl.metadata (4.6 kB)\n",
      "Collecting tenacity!=8.4.0,<9.0.0,>=8.1.0 (from Langchain)\n",
      "  Downloading tenacity-8.5.0-py3-none-any.whl.metadata (1.2 kB)\n",
      "Collecting aiohappyeyeballs>=2.3.0 (from aiohttp<4.0.0,>=3.8.3->Langchain)\n",
      "  Downloading aiohappyeyeballs-2.4.0-py3-none-any.whl.metadata (5.9 kB)\n",
      "Collecting aiosignal>=1.1.2 (from aiohttp<4.0.0,>=3.8.3->Langchain)\n",
      "  Using cached aiosignal-1.3.1-py3-none-any.whl.metadata (4.0 kB)\n",
      "Collecting attrs>=17.3.0 (from aiohttp<4.0.0,>=3.8.3->Langchain)\n",
      "  Downloading attrs-24.2.0-py3-none-any.whl.metadata (11 kB)\n",
      "Collecting frozenlist>=1.1.1 (from aiohttp<4.0.0,>=3.8.3->Langchain)\n",
      "  Downloading frozenlist-1.4.1-cp312-cp312-win_amd64.whl.metadata (12 kB)\n",
      "Collecting multidict<7.0,>=4.5 (from aiohttp<4.0.0,>=3.8.3->Langchain)\n",
      "  Downloading multidict-6.0.5-cp312-cp312-win_amd64.whl.metadata (4.3 kB)\n",
      "Collecting yarl<2.0,>=1.0 (from aiohttp<4.0.0,>=3.8.3->Langchain)\n",
      "  Downloading yarl-1.9.11-cp312-cp312-win_amd64.whl.metadata (44 kB)\n",
      "Collecting jsonpatch<2.0,>=1.33 (from langchain-core<0.3.0,>=0.2.38->Langchain)\n",
      "  Using cached jsonpatch-1.33-py2.py3-none-any.whl.metadata (3.0 kB)\n",
      "Requirement already satisfied: packaging<25,>=23.2 in c:\\users\\shrut\\onedrive\\documents\\llama_3.1\\llm_env\\lib\\site-packages (from langchain-core<0.3.0,>=0.2.38->Langchain) (24.1)\n",
      "Collecting typing-extensions>=4.7 (from langchain-core<0.3.0,>=0.2.38->Langchain)\n",
      "  Downloading typing_extensions-4.12.2-py3-none-any.whl.metadata (3.0 kB)\n",
      "Collecting httpx<1,>=0.23.0 (from langsmith<0.2.0,>=0.1.17->Langchain)\n",
      "  Downloading httpx-0.27.2-py3-none-any.whl.metadata (7.1 kB)\n",
      "Collecting orjson<4.0.0,>=3.9.14 (from langsmith<0.2.0,>=0.1.17->Langchain)\n",
      "  Downloading orjson-3.10.7-cp312-none-win_amd64.whl.metadata (51 kB)\n",
      "Collecting annotated-types>=0.4.0 (from pydantic<3,>=1->Langchain)\n",
      "  Downloading annotated_types-0.7.0-py3-none-any.whl.metadata (15 kB)\n",
      "Collecting pydantic-core==2.20.1 (from pydantic<3,>=1->Langchain)\n",
      "  Downloading pydantic_core-2.20.1-cp312-none-win_amd64.whl.metadata (6.7 kB)\n",
      "Collecting charset-normalizer<4,>=2 (from requests<3,>=2->Langchain)\n",
      "  Downloading charset_normalizer-3.3.2-cp312-cp312-win_amd64.whl.metadata (34 kB)\n",
      "Collecting idna<4,>=2.5 (from requests<3,>=2->Langchain)\n",
      "  Downloading idna-3.8-py3-none-any.whl.metadata (9.9 kB)\n",
      "Collecting urllib3<3,>=1.21.1 (from requests<3,>=2->Langchain)\n",
      "  Downloading urllib3-2.2.2-py3-none-any.whl.metadata (6.4 kB)\n",
      "Collecting certifi>=2017.4.17 (from requests<3,>=2->Langchain)\n",
      "  Downloading certifi-2024.8.30-py3-none-any.whl.metadata (2.2 kB)\n",
      "Collecting greenlet!=0.4.17 (from SQLAlchemy<3,>=1.4->Langchain)\n",
      "  Downloading greenlet-3.0.3-cp312-cp312-win_amd64.whl.metadata (3.9 kB)\n",
      "Collecting anyio (from httpx<1,>=0.23.0->langsmith<0.2.0,>=0.1.17->Langchain)\n",
      "  Downloading anyio-4.4.0-py3-none-any.whl.metadata (4.6 kB)\n",
      "Collecting httpcore==1.* (from httpx<1,>=0.23.0->langsmith<0.2.0,>=0.1.17->Langchain)\n",
      "  Downloading httpcore-1.0.5-py3-none-any.whl.metadata (20 kB)\n",
      "Collecting sniffio (from httpx<1,>=0.23.0->langsmith<0.2.0,>=0.1.17->Langchain)\n",
      "  Using cached sniffio-1.3.1-py3-none-any.whl.metadata (3.9 kB)\n",
      "Collecting h11<0.15,>=0.13 (from httpcore==1.*->httpx<1,>=0.23.0->langsmith<0.2.0,>=0.1.17->Langchain)\n",
      "  Using cached h11-0.14.0-py3-none-any.whl.metadata (8.2 kB)\n",
      "Collecting jsonpointer>=1.9 (from jsonpatch<2.0,>=1.33->langchain-core<0.3.0,>=0.2.38->Langchain)\n",
      "  Downloading jsonpointer-3.0.0-py2.py3-none-any.whl.metadata (2.3 kB)\n",
      "Downloading langchain-0.2.16-py3-none-any.whl (1.0 MB)\n",
      "   ---------------------------------------- 0.0/1.0 MB ? eta -:--:--\n",
      "   ---------------------------------------- 1.0/1.0 MB 5.9 MB/s eta 0:00:00\n",
      "Downloading aiohttp-3.10.5-cp312-cp312-win_amd64.whl (377 kB)\n",
      "Downloading langchain_core-0.2.38-py3-none-any.whl (396 kB)\n",
      "Downloading langchain_text_splitters-0.2.4-py3-none-any.whl (25 kB)\n",
      "Downloading langsmith-0.1.114-py3-none-any.whl (290 kB)\n",
      "Downloading numpy-1.26.4-cp312-cp312-win_amd64.whl (15.5 MB)\n",
      "   ---------------------------------------- 0.0/15.5 MB ? eta -:--:--\n",
      "   --- ------------------------------------ 1.3/15.5 MB 6.7 MB/s eta 0:00:03\n",
      "   ----- ---------------------------------- 2.1/15.5 MB 5.3 MB/s eta 0:00:03\n",
      "   -------- ------------------------------- 3.1/15.5 MB 5.1 MB/s eta 0:00:03\n",
      "   ---------- ----------------------------- 3.9/15.5 MB 4.8 MB/s eta 0:00:03\n",
      "   ----------- ---------------------------- 4.5/15.5 MB 4.3 MB/s eta 0:00:03\n",
      "   ------------ --------------------------- 5.0/15.5 MB 3.9 MB/s eta 0:00:03\n",
      "   ------------- -------------------------- 5.2/15.5 MB 3.5 MB/s eta 0:00:03\n",
      "   -------------- ------------------------- 5.5/15.5 MB 3.1 MB/s eta 0:00:04\n",
      "   -------------- ------------------------- 5.8/15.5 MB 2.9 MB/s eta 0:00:04\n",
      "   --------------- ------------------------ 6.0/15.5 MB 2.8 MB/s eta 0:00:04\n",
      "   ---------------- ----------------------- 6.3/15.5 MB 2.6 MB/s eta 0:00:04\n",
      "   ---------------- ----------------------- 6.3/15.5 MB 2.6 MB/s eta 0:00:04\n",
      "   ---------------- ----------------------- 6.6/15.5 MB 2.4 MB/s eta 0:00:04\n",
      "   ---------------- ----------------------- 6.6/15.5 MB 2.4 MB/s eta 0:00:04\n",
      "   ----------------- ---------------------- 6.8/15.5 MB 2.2 MB/s eta 0:00:05\n",
      "   ----------------- ---------------------- 6.8/15.5 MB 2.2 MB/s eta 0:00:05\n",
      "   ------------------ --------------------- 7.1/15.5 MB 1.9 MB/s eta 0:00:05\n",
      "   ------------------ --------------------- 7.1/15.5 MB 1.9 MB/s eta 0:00:05\n",
      "   ------------------ --------------------- 7.3/15.5 MB 1.9 MB/s eta 0:00:05\n",
      "   ------------------- -------------------- 7.6/15.5 MB 1.8 MB/s eta 0:00:05\n",
      "   -------------------- ------------------- 7.9/15.5 MB 1.7 MB/s eta 0:00:05\n",
      "   -------------------- ------------------- 8.1/15.5 MB 1.7 MB/s eta 0:00:05\n",
      "   -------------------- ------------------- 8.1/15.5 MB 1.7 MB/s eta 0:00:05\n",
      "   --------------------- ------------------ 8.4/15.5 MB 1.6 MB/s eta 0:00:05\n",
      "   --------------------- ------------------ 8.4/15.5 MB 1.6 MB/s eta 0:00:05\n",
      "   --------------------- ------------------ 8.4/15.5 MB 1.6 MB/s eta 0:00:05\n",
      "   ---------------------- ----------------- 8.7/15.5 MB 1.5 MB/s eta 0:00:05\n",
      "   ---------------------- ----------------- 8.7/15.5 MB 1.5 MB/s eta 0:00:05\n",
      "   ---------------------- ----------------- 8.9/15.5 MB 1.4 MB/s eta 0:00:05\n",
      "   ----------------------- ---------------- 9.2/15.5 MB 1.4 MB/s eta 0:00:05\n",
      "   ----------------------- ---------------- 9.2/15.5 MB 1.4 MB/s eta 0:00:05\n",
      "   ------------------------ --------------- 9.4/15.5 MB 1.4 MB/s eta 0:00:05\n",
      "   ------------------------- -------------- 9.7/15.5 MB 1.4 MB/s eta 0:00:05\n",
      "   ------------------------- -------------- 9.7/15.5 MB 1.4 MB/s eta 0:00:05\n",
      "   ------------------------- -------------- 10.0/15.5 MB 1.3 MB/s eta 0:00:05\n",
      "   -------------------------- ------------- 10.2/15.5 MB 1.3 MB/s eta 0:00:04\n",
      "   --------------------------- ------------ 10.5/15.5 MB 1.3 MB/s eta 0:00:04\n",
      "   --------------------------- ------------ 10.7/15.5 MB 1.3 MB/s eta 0:00:04\n",
      "   ---------------------------- ----------- 11.0/15.5 MB 1.3 MB/s eta 0:00:04\n",
      "   ---------------------------- ----------- 11.0/15.5 MB 1.3 MB/s eta 0:00:04\n",
      "   ----------------------------- ---------- 11.3/15.5 MB 1.3 MB/s eta 0:00:04\n",
      "   ----------------------------- ---------- 11.5/15.5 MB 1.3 MB/s eta 0:00:04\n",
      "   ----------------------------- ---------- 11.5/15.5 MB 1.3 MB/s eta 0:00:04\n",
      "   ----------------------------- ---------- 11.5/15.5 MB 1.3 MB/s eta 0:00:04\n",
      "   ------------------------------ --------- 11.8/15.5 MB 1.2 MB/s eta 0:00:04\n",
      "   ------------------------------ --------- 11.8/15.5 MB 1.2 MB/s eta 0:00:04\n",
      "   ------------------------------- -------- 12.1/15.5 MB 1.2 MB/s eta 0:00:03\n",
      "   ------------------------------- -------- 12.1/15.5 MB 1.2 MB/s eta 0:00:03\n",
      "   ------------------------------- -------- 12.1/15.5 MB 1.2 MB/s eta 0:00:03\n",
      "   ------------------------------- -------- 12.1/15.5 MB 1.2 MB/s eta 0:00:03\n",
      "   ------------------------------- -------- 12.3/15.5 MB 1.1 MB/s eta 0:00:03\n",
      "   ------------------------------- -------- 12.3/15.5 MB 1.1 MB/s eta 0:00:03\n",
      "   ------------------------------- -------- 12.3/15.5 MB 1.1 MB/s eta 0:00:03\n",
      "   ------------------------------- -------- 12.3/15.5 MB 1.1 MB/s eta 0:00:03\n",
      "   -------------------------------- ------- 12.6/15.5 MB 1.1 MB/s eta 0:00:03\n",
      "   -------------------------------- ------- 12.6/15.5 MB 1.1 MB/s eta 0:00:03\n",
      "   --------------------------------- ------ 12.8/15.5 MB 1.0 MB/s eta 0:00:03\n",
      "   --------------------------------- ------ 12.8/15.5 MB 1.0 MB/s eta 0:00:03\n",
      "   --------------------------------- ------ 13.1/15.5 MB 1.0 MB/s eta 0:00:03\n",
      "   --------------------------------- ------ 13.1/15.5 MB 1.0 MB/s eta 0:00:03\n",
      "   ---------------------------------- ----- 13.4/15.5 MB 1.0 MB/s eta 0:00:03\n",
      "   ----------------------------------- ---- 13.6/15.5 MB 1.0 MB/s eta 0:00:02\n",
      "   ----------------------------------- ---- 13.6/15.5 MB 1.0 MB/s eta 0:00:02\n",
      "   ----------------------------------- ---- 13.9/15.5 MB 1.0 MB/s eta 0:00:02\n",
      "   ------------------------------------ --- 14.2/15.5 MB 1.0 MB/s eta 0:00:02\n",
      "   ------------------------------------- -- 14.4/15.5 MB 1.0 MB/s eta 0:00:02\n",
      "   ------------------------------------- -- 14.4/15.5 MB 1.0 MB/s eta 0:00:02\n",
      "   ------------------------------------- -- 14.4/15.5 MB 1.0 MB/s eta 0:00:02\n",
      "   ------------------------------------- -- 14.7/15.5 MB 991.1 kB/s eta 0:00:01\n",
      "   ------------------------------------- -- 14.7/15.5 MB 991.1 kB/s eta 0:00:01\n",
      "   -------------------------------------- - 14.9/15.5 MB 978.7 kB/s eta 0:00:01\n",
      "   -------------------------------------- - 14.9/15.5 MB 978.7 kB/s eta 0:00:01\n",
      "   -------------------------------------- - 14.9/15.5 MB 978.7 kB/s eta 0:00:01\n",
      "   -------------------------------------- - 14.9/15.5 MB 978.7 kB/s eta 0:00:01\n",
      "   ---------------------------------------  15.2/15.5 MB 933.0 kB/s eta 0:00:01\n",
      "   ---------------------------------------  15.2/15.5 MB 933.0 kB/s eta 0:00:01\n",
      "   ---------------------------------------- 15.5/15.5 MB 925.4 kB/s eta 0:00:00\n",
      "Downloading pydantic-2.8.2-py3-none-any.whl (423 kB)\n",
      "Downloading pydantic_core-2.20.1-cp312-none-win_amd64.whl (1.9 MB)\n",
      "   ---------------------------------------- 0.0/1.9 MB ? eta -:--:--\n",
      "   ---------------------------------------- 0.0/1.9 MB ? eta -:--:--\n",
      "   ----- ---------------------------------- 0.3/1.9 MB ? eta -:--:--\n",
      "   ----------- ---------------------------- 0.5/1.9 MB 1.2 MB/s eta 0:00:02\n",
      "   ---------------------- ----------------- 1.0/1.9 MB 1.4 MB/s eta 0:00:01\n",
      "   --------------------------- ------------ 1.3/1.9 MB 1.4 MB/s eta 0:00:01\n",
      "   --------------------------------- ------ 1.6/1.9 MB 1.4 MB/s eta 0:00:01\n",
      "   ---------------------------------------- 1.9/1.9 MB 1.4 MB/s eta 0:00:00\n",
      "Downloading PyYAML-6.0.2-cp312-cp312-win_amd64.whl (156 kB)\n",
      "Downloading requests-2.32.3-py3-none-any.whl (64 kB)\n",
      "Downloading SQLAlchemy-2.0.34-cp312-cp312-win_amd64.whl (2.1 MB)\n",
      "   ---------------------------------------- 0.0/2.1 MB ? eta -:--:--\n",
      "   ----- ---------------------------------- 0.3/2.1 MB ? eta -:--:--\n",
      "   ---------- ----------------------------- 0.5/2.1 MB 1.5 MB/s eta 0:00:02\n",
      "   --------------- ------------------------ 0.8/2.1 MB 1.6 MB/s eta 0:00:01\n",
      "   ------------------------- -------------- 1.3/2.1 MB 1.6 MB/s eta 0:00:01\n",
      "   ------------------------------ --------- 1.6/2.1 MB 1.6 MB/s eta 0:00:01\n",
      "   ----------------------------------- ---- 1.8/2.1 MB 1.6 MB/s eta 0:00:01\n",
      "   ---------------------------------------- 2.1/2.1 MB 1.6 MB/s eta 0:00:00\n",
      "Downloading tenacity-8.5.0-py3-none-any.whl (28 kB)\n",
      "Downloading aiohappyeyeballs-2.4.0-py3-none-any.whl (12 kB)\n",
      "Using cached aiosignal-1.3.1-py3-none-any.whl (7.6 kB)\n",
      "Downloading annotated_types-0.7.0-py3-none-any.whl (13 kB)\n",
      "Downloading attrs-24.2.0-py3-none-any.whl (63 kB)\n",
      "Downloading certifi-2024.8.30-py3-none-any.whl (167 kB)\n",
      "Downloading charset_normalizer-3.3.2-cp312-cp312-win_amd64.whl (100 kB)\n",
      "Downloading frozenlist-1.4.1-cp312-cp312-win_amd64.whl (50 kB)\n",
      "Downloading greenlet-3.0.3-cp312-cp312-win_amd64.whl (293 kB)\n",
      "Downloading httpx-0.27.2-py3-none-any.whl (76 kB)\n",
      "Downloading httpcore-1.0.5-py3-none-any.whl (77 kB)\n",
      "Downloading idna-3.8-py3-none-any.whl (66 kB)\n",
      "Using cached jsonpatch-1.33-py2.py3-none-any.whl (12 kB)\n",
      "Downloading multidict-6.0.5-cp312-cp312-win_amd64.whl (27 kB)\n",
      "Downloading orjson-3.10.7-cp312-none-win_amd64.whl (137 kB)\n",
      "Downloading typing_extensions-4.12.2-py3-none-any.whl (37 kB)\n",
      "Downloading urllib3-2.2.2-py3-none-any.whl (121 kB)\n",
      "Downloading yarl-1.9.11-cp312-cp312-win_amd64.whl (109 kB)\n",
      "Downloading jsonpointer-3.0.0-py2.py3-none-any.whl (7.6 kB)\n",
      "Downloading anyio-4.4.0-py3-none-any.whl (86 kB)\n",
      "Using cached sniffio-1.3.1-py3-none-any.whl (10 kB)\n",
      "Using cached h11-0.14.0-py3-none-any.whl (58 kB)\n",
      "Installing collected packages: urllib3, typing-extensions, tenacity, sniffio, PyYAML, orjson, numpy, multidict, jsonpointer, idna, h11, greenlet, frozenlist, charset-normalizer, certifi, attrs, annotated-types, aiohappyeyeballs, yarl, SQLAlchemy, requests, pydantic-core, jsonpatch, httpcore, anyio, aiosignal, pydantic, httpx, aiohttp, langsmith, langchain-core, langchain-text-splitters, Langchain\n",
      "  Attempting uninstall: numpy\n",
      "    Found existing installation: numpy 2.1.1\n",
      "    Uninstalling numpy-2.1.1:\n",
      "      Successfully uninstalled numpy-2.1.1\n",
      "Successfully installed Langchain-0.2.16 PyYAML-6.0.2 SQLAlchemy-2.0.34 aiohappyeyeballs-2.4.0 aiohttp-3.10.5 aiosignal-1.3.1 annotated-types-0.7.0 anyio-4.4.0 attrs-24.2.0 certifi-2024.8.30 charset-normalizer-3.3.2 frozenlist-1.4.1 greenlet-3.0.3 h11-0.14.0 httpcore-1.0.5 httpx-0.27.2 idna-3.8 jsonpatch-1.33 jsonpointer-3.0.0 langchain-core-0.2.38 langchain-text-splitters-0.2.4 langsmith-0.1.114 multidict-6.0.5 numpy-1.26.4 orjson-3.10.7 pydantic-2.8.2 pydantic-core-2.20.1 requests-2.32.3 sniffio-1.3.1 tenacity-8.5.0 typing-extensions-4.12.2 urllib3-2.2.2 yarl-1.9.11\n"
     ]
    }
   ],
   "source": [
    "%pip install Langchain"
   ]
  },
  {
   "cell_type": "code",
   "execution_count": 3,
   "metadata": {},
   "outputs": [
    {
     "name": "stdout",
     "output_type": "stream",
     "text": [
      "Collecting langchain-groq\n",
      "  Downloading langchain_groq-0.1.9-py3-none-any.whl.metadata (2.9 kB)\n",
      "Collecting groq<1,>=0.4.1 (from langchain-groq)\n",
      "  Downloading groq-0.11.0-py3-none-any.whl.metadata (13 kB)\n",
      "Requirement already satisfied: langchain-core<0.3.0,>=0.2.26 in c:\\users\\shrut\\onedrive\\documents\\llama_3.1\\llm_env\\lib\\site-packages (from langchain-groq) (0.2.38)\n",
      "Requirement already satisfied: anyio<5,>=3.5.0 in c:\\users\\shrut\\onedrive\\documents\\llama_3.1\\llm_env\\lib\\site-packages (from groq<1,>=0.4.1->langchain-groq) (4.4.0)\n",
      "Collecting distro<2,>=1.7.0 (from groq<1,>=0.4.1->langchain-groq)\n",
      "  Using cached distro-1.9.0-py3-none-any.whl.metadata (6.8 kB)\n",
      "Requirement already satisfied: httpx<1,>=0.23.0 in c:\\users\\shrut\\onedrive\\documents\\llama_3.1\\llm_env\\lib\\site-packages (from groq<1,>=0.4.1->langchain-groq) (0.27.2)\n",
      "Requirement already satisfied: pydantic<3,>=1.9.0 in c:\\users\\shrut\\onedrive\\documents\\llama_3.1\\llm_env\\lib\\site-packages (from groq<1,>=0.4.1->langchain-groq) (2.8.2)\n",
      "Requirement already satisfied: sniffio in c:\\users\\shrut\\onedrive\\documents\\llama_3.1\\llm_env\\lib\\site-packages (from groq<1,>=0.4.1->langchain-groq) (1.3.1)\n",
      "Requirement already satisfied: typing-extensions<5,>=4.7 in c:\\users\\shrut\\onedrive\\documents\\llama_3.1\\llm_env\\lib\\site-packages (from groq<1,>=0.4.1->langchain-groq) (4.12.2)\n",
      "Requirement already satisfied: PyYAML>=5.3 in c:\\users\\shrut\\onedrive\\documents\\llama_3.1\\llm_env\\lib\\site-packages (from langchain-core<0.3.0,>=0.2.26->langchain-groq) (6.0.2)\n",
      "Requirement already satisfied: jsonpatch<2.0,>=1.33 in c:\\users\\shrut\\onedrive\\documents\\llama_3.1\\llm_env\\lib\\site-packages (from langchain-core<0.3.0,>=0.2.26->langchain-groq) (1.33)\n",
      "Requirement already satisfied: langsmith<0.2.0,>=0.1.75 in c:\\users\\shrut\\onedrive\\documents\\llama_3.1\\llm_env\\lib\\site-packages (from langchain-core<0.3.0,>=0.2.26->langchain-groq) (0.1.114)\n",
      "Requirement already satisfied: packaging<25,>=23.2 in c:\\users\\shrut\\onedrive\\documents\\llama_3.1\\llm_env\\lib\\site-packages (from langchain-core<0.3.0,>=0.2.26->langchain-groq) (24.1)\n",
      "Requirement already satisfied: tenacity!=8.4.0,<9.0.0,>=8.1.0 in c:\\users\\shrut\\onedrive\\documents\\llama_3.1\\llm_env\\lib\\site-packages (from langchain-core<0.3.0,>=0.2.26->langchain-groq) (8.5.0)\n",
      "Requirement already satisfied: idna>=2.8 in c:\\users\\shrut\\onedrive\\documents\\llama_3.1\\llm_env\\lib\\site-packages (from anyio<5,>=3.5.0->groq<1,>=0.4.1->langchain-groq) (3.8)\n",
      "Requirement already satisfied: certifi in c:\\users\\shrut\\onedrive\\documents\\llama_3.1\\llm_env\\lib\\site-packages (from httpx<1,>=0.23.0->groq<1,>=0.4.1->langchain-groq) (2024.8.30)\n",
      "Requirement already satisfied: httpcore==1.* in c:\\users\\shrut\\onedrive\\documents\\llama_3.1\\llm_env\\lib\\site-packages (from httpx<1,>=0.23.0->groq<1,>=0.4.1->langchain-groq) (1.0.5)\n",
      "Requirement already satisfied: h11<0.15,>=0.13 in c:\\users\\shrut\\onedrive\\documents\\llama_3.1\\llm_env\\lib\\site-packages (from httpcore==1.*->httpx<1,>=0.23.0->groq<1,>=0.4.1->langchain-groq) (0.14.0)\n",
      "Requirement already satisfied: jsonpointer>=1.9 in c:\\users\\shrut\\onedrive\\documents\\llama_3.1\\llm_env\\lib\\site-packages (from jsonpatch<2.0,>=1.33->langchain-core<0.3.0,>=0.2.26->langchain-groq) (3.0.0)\n",
      "Requirement already satisfied: orjson<4.0.0,>=3.9.14 in c:\\users\\shrut\\onedrive\\documents\\llama_3.1\\llm_env\\lib\\site-packages (from langsmith<0.2.0,>=0.1.75->langchain-core<0.3.0,>=0.2.26->langchain-groq) (3.10.7)\n",
      "Requirement already satisfied: requests<3,>=2 in c:\\users\\shrut\\onedrive\\documents\\llama_3.1\\llm_env\\lib\\site-packages (from langsmith<0.2.0,>=0.1.75->langchain-core<0.3.0,>=0.2.26->langchain-groq) (2.32.3)\n",
      "Requirement already satisfied: annotated-types>=0.4.0 in c:\\users\\shrut\\onedrive\\documents\\llama_3.1\\llm_env\\lib\\site-packages (from pydantic<3,>=1.9.0->groq<1,>=0.4.1->langchain-groq) (0.7.0)\n",
      "Requirement already satisfied: pydantic-core==2.20.1 in c:\\users\\shrut\\onedrive\\documents\\llama_3.1\\llm_env\\lib\\site-packages (from pydantic<3,>=1.9.0->groq<1,>=0.4.1->langchain-groq) (2.20.1)\n",
      "Requirement already satisfied: charset-normalizer<4,>=2 in c:\\users\\shrut\\onedrive\\documents\\llama_3.1\\llm_env\\lib\\site-packages (from requests<3,>=2->langsmith<0.2.0,>=0.1.75->langchain-core<0.3.0,>=0.2.26->langchain-groq) (3.3.2)\n",
      "Requirement already satisfied: urllib3<3,>=1.21.1 in c:\\users\\shrut\\onedrive\\documents\\llama_3.1\\llm_env\\lib\\site-packages (from requests<3,>=2->langsmith<0.2.0,>=0.1.75->langchain-core<0.3.0,>=0.2.26->langchain-groq) (2.2.2)\n",
      "Downloading langchain_groq-0.1.9-py3-none-any.whl (14 kB)\n",
      "Downloading groq-0.11.0-py3-none-any.whl (106 kB)\n",
      "Using cached distro-1.9.0-py3-none-any.whl (20 kB)\n",
      "Installing collected packages: distro, groq, langchain-groq\n",
      "Successfully installed distro-1.9.0 groq-0.11.0 langchain-groq-0.1.9\n",
      "Note: you may need to restart the kernel to use updated packages.\n"
     ]
    }
   ],
   "source": [
    "%pip install langchain-groq"
   ]
  },
  {
   "cell_type": "code",
   "execution_count": 4,
   "metadata": {},
   "outputs": [
    {
     "name": "stdout",
     "output_type": "stream",
     "text": [
      "Collecting langchain-community\n",
      "  Downloading langchain_community-0.2.16-py3-none-any.whl.metadata (2.7 kB)\n",
      "Requirement already satisfied: PyYAML>=5.3 in c:\\users\\shrut\\onedrive\\documents\\llama_3.1\\llm_env\\lib\\site-packages (from langchain-community) (6.0.2)\n",
      "Requirement already satisfied: SQLAlchemy<3,>=1.4 in c:\\users\\shrut\\onedrive\\documents\\llama_3.1\\llm_env\\lib\\site-packages (from langchain-community) (2.0.34)\n",
      "Requirement already satisfied: aiohttp<4.0.0,>=3.8.3 in c:\\users\\shrut\\onedrive\\documents\\llama_3.1\\llm_env\\lib\\site-packages (from langchain-community) (3.10.5)\n",
      "Collecting dataclasses-json<0.7,>=0.5.7 (from langchain-community)\n",
      "  Downloading dataclasses_json-0.6.7-py3-none-any.whl.metadata (25 kB)\n",
      "Requirement already satisfied: langchain<0.3.0,>=0.2.16 in c:\\users\\shrut\\onedrive\\documents\\llama_3.1\\llm_env\\lib\\site-packages (from langchain-community) (0.2.16)\n",
      "Requirement already satisfied: langchain-core<0.3.0,>=0.2.38 in c:\\users\\shrut\\onedrive\\documents\\llama_3.1\\llm_env\\lib\\site-packages (from langchain-community) (0.2.38)\n",
      "Requirement already satisfied: langsmith<0.2.0,>=0.1.0 in c:\\users\\shrut\\onedrive\\documents\\llama_3.1\\llm_env\\lib\\site-packages (from langchain-community) (0.1.114)\n",
      "Requirement already satisfied: numpy<2.0.0,>=1.26.0 in c:\\users\\shrut\\onedrive\\documents\\llama_3.1\\llm_env\\lib\\site-packages (from langchain-community) (1.26.4)\n",
      "Requirement already satisfied: requests<3,>=2 in c:\\users\\shrut\\onedrive\\documents\\llama_3.1\\llm_env\\lib\\site-packages (from langchain-community) (2.32.3)\n",
      "Requirement already satisfied: tenacity!=8.4.0,<9.0.0,>=8.1.0 in c:\\users\\shrut\\onedrive\\documents\\llama_3.1\\llm_env\\lib\\site-packages (from langchain-community) (8.5.0)\n",
      "Requirement already satisfied: aiohappyeyeballs>=2.3.0 in c:\\users\\shrut\\onedrive\\documents\\llama_3.1\\llm_env\\lib\\site-packages (from aiohttp<4.0.0,>=3.8.3->langchain-community) (2.4.0)\n",
      "Requirement already satisfied: aiosignal>=1.1.2 in c:\\users\\shrut\\onedrive\\documents\\llama_3.1\\llm_env\\lib\\site-packages (from aiohttp<4.0.0,>=3.8.3->langchain-community) (1.3.1)\n",
      "Requirement already satisfied: attrs>=17.3.0 in c:\\users\\shrut\\onedrive\\documents\\llama_3.1\\llm_env\\lib\\site-packages (from aiohttp<4.0.0,>=3.8.3->langchain-community) (24.2.0)\n",
      "Requirement already satisfied: frozenlist>=1.1.1 in c:\\users\\shrut\\onedrive\\documents\\llama_3.1\\llm_env\\lib\\site-packages (from aiohttp<4.0.0,>=3.8.3->langchain-community) (1.4.1)\n",
      "Requirement already satisfied: multidict<7.0,>=4.5 in c:\\users\\shrut\\onedrive\\documents\\llama_3.1\\llm_env\\lib\\site-packages (from aiohttp<4.0.0,>=3.8.3->langchain-community) (6.0.5)\n",
      "Requirement already satisfied: yarl<2.0,>=1.0 in c:\\users\\shrut\\onedrive\\documents\\llama_3.1\\llm_env\\lib\\site-packages (from aiohttp<4.0.0,>=3.8.3->langchain-community) (1.9.11)\n",
      "Collecting marshmallow<4.0.0,>=3.18.0 (from dataclasses-json<0.7,>=0.5.7->langchain-community)\n",
      "  Downloading marshmallow-3.22.0-py3-none-any.whl.metadata (7.2 kB)\n",
      "Collecting typing-inspect<1,>=0.4.0 (from dataclasses-json<0.7,>=0.5.7->langchain-community)\n",
      "  Using cached typing_inspect-0.9.0-py3-none-any.whl.metadata (1.5 kB)\n",
      "Requirement already satisfied: langchain-text-splitters<0.3.0,>=0.2.0 in c:\\users\\shrut\\onedrive\\documents\\llama_3.1\\llm_env\\lib\\site-packages (from langchain<0.3.0,>=0.2.16->langchain-community) (0.2.4)\n",
      "Requirement already satisfied: pydantic<3,>=1 in c:\\users\\shrut\\onedrive\\documents\\llama_3.1\\llm_env\\lib\\site-packages (from langchain<0.3.0,>=0.2.16->langchain-community) (2.8.2)\n",
      "Requirement already satisfied: jsonpatch<2.0,>=1.33 in c:\\users\\shrut\\onedrive\\documents\\llama_3.1\\llm_env\\lib\\site-packages (from langchain-core<0.3.0,>=0.2.38->langchain-community) (1.33)\n",
      "Requirement already satisfied: packaging<25,>=23.2 in c:\\users\\shrut\\onedrive\\documents\\llama_3.1\\llm_env\\lib\\site-packages (from langchain-core<0.3.0,>=0.2.38->langchain-community) (24.1)\n",
      "Requirement already satisfied: typing-extensions>=4.7 in c:\\users\\shrut\\onedrive\\documents\\llama_3.1\\llm_env\\lib\\site-packages (from langchain-core<0.3.0,>=0.2.38->langchain-community) (4.12.2)\n",
      "Requirement already satisfied: httpx<1,>=0.23.0 in c:\\users\\shrut\\onedrive\\documents\\llama_3.1\\llm_env\\lib\\site-packages (from langsmith<0.2.0,>=0.1.0->langchain-community) (0.27.2)\n",
      "Requirement already satisfied: orjson<4.0.0,>=3.9.14 in c:\\users\\shrut\\onedrive\\documents\\llama_3.1\\llm_env\\lib\\site-packages (from langsmith<0.2.0,>=0.1.0->langchain-community) (3.10.7)\n",
      "Requirement already satisfied: charset-normalizer<4,>=2 in c:\\users\\shrut\\onedrive\\documents\\llama_3.1\\llm_env\\lib\\site-packages (from requests<3,>=2->langchain-community) (3.3.2)\n",
      "Requirement already satisfied: idna<4,>=2.5 in c:\\users\\shrut\\onedrive\\documents\\llama_3.1\\llm_env\\lib\\site-packages (from requests<3,>=2->langchain-community) (3.8)\n",
      "Requirement already satisfied: urllib3<3,>=1.21.1 in c:\\users\\shrut\\onedrive\\documents\\llama_3.1\\llm_env\\lib\\site-packages (from requests<3,>=2->langchain-community) (2.2.2)\n",
      "Requirement already satisfied: certifi>=2017.4.17 in c:\\users\\shrut\\onedrive\\documents\\llama_3.1\\llm_env\\lib\\site-packages (from requests<3,>=2->langchain-community) (2024.8.30)\n",
      "Requirement already satisfied: greenlet!=0.4.17 in c:\\users\\shrut\\onedrive\\documents\\llama_3.1\\llm_env\\lib\\site-packages (from SQLAlchemy<3,>=1.4->langchain-community) (3.0.3)\n",
      "Requirement already satisfied: anyio in c:\\users\\shrut\\onedrive\\documents\\llama_3.1\\llm_env\\lib\\site-packages (from httpx<1,>=0.23.0->langsmith<0.2.0,>=0.1.0->langchain-community) (4.4.0)\n",
      "Requirement already satisfied: httpcore==1.* in c:\\users\\shrut\\onedrive\\documents\\llama_3.1\\llm_env\\lib\\site-packages (from httpx<1,>=0.23.0->langsmith<0.2.0,>=0.1.0->langchain-community) (1.0.5)\n",
      "Requirement already satisfied: sniffio in c:\\users\\shrut\\onedrive\\documents\\llama_3.1\\llm_env\\lib\\site-packages (from httpx<1,>=0.23.0->langsmith<0.2.0,>=0.1.0->langchain-community) (1.3.1)\n",
      "Requirement already satisfied: h11<0.15,>=0.13 in c:\\users\\shrut\\onedrive\\documents\\llama_3.1\\llm_env\\lib\\site-packages (from httpcore==1.*->httpx<1,>=0.23.0->langsmith<0.2.0,>=0.1.0->langchain-community) (0.14.0)\n",
      "Requirement already satisfied: jsonpointer>=1.9 in c:\\users\\shrut\\onedrive\\documents\\llama_3.1\\llm_env\\lib\\site-packages (from jsonpatch<2.0,>=1.33->langchain-core<0.3.0,>=0.2.38->langchain-community) (3.0.0)\n",
      "Requirement already satisfied: annotated-types>=0.4.0 in c:\\users\\shrut\\onedrive\\documents\\llama_3.1\\llm_env\\lib\\site-packages (from pydantic<3,>=1->langchain<0.3.0,>=0.2.16->langchain-community) (0.7.0)\n",
      "Requirement already satisfied: pydantic-core==2.20.1 in c:\\users\\shrut\\onedrive\\documents\\llama_3.1\\llm_env\\lib\\site-packages (from pydantic<3,>=1->langchain<0.3.0,>=0.2.16->langchain-community) (2.20.1)\n",
      "Collecting mypy-extensions>=0.3.0 (from typing-inspect<1,>=0.4.0->dataclasses-json<0.7,>=0.5.7->langchain-community)\n",
      "  Using cached mypy_extensions-1.0.0-py3-none-any.whl.metadata (1.1 kB)\n",
      "Downloading langchain_community-0.2.16-py3-none-any.whl (2.3 MB)\n",
      "   ---------------------------------------- 0.0/2.3 MB ? eta -:--:--\n",
      "   ----------------- ---------------------- 1.0/2.3 MB 7.1 MB/s eta 0:00:01\n",
      "   ----------------------------------- ---- 2.1/2.3 MB 6.5 MB/s eta 0:00:01\n",
      "   ---------------------------------------- 2.3/2.3 MB 6.3 MB/s eta 0:00:00\n",
      "Downloading dataclasses_json-0.6.7-py3-none-any.whl (28 kB)\n",
      "Downloading marshmallow-3.22.0-py3-none-any.whl (49 kB)\n",
      "Using cached typing_inspect-0.9.0-py3-none-any.whl (8.8 kB)\n",
      "Using cached mypy_extensions-1.0.0-py3-none-any.whl (4.7 kB)\n",
      "Installing collected packages: mypy-extensions, marshmallow, typing-inspect, dataclasses-json, langchain-community\n",
      "Successfully installed dataclasses-json-0.6.7 langchain-community-0.2.16 marshmallow-3.22.0 mypy-extensions-1.0.0 typing-inspect-0.9.0\n",
      "Note: you may need to restart the kernel to use updated packages.\n"
     ]
    }
   ],
   "source": [
    "%pip install langchain-community\n"
   ]
  },
  {
   "cell_type": "code",
   "execution_count": 8,
   "metadata": {},
   "outputs": [
    {
     "name": "stdout",
     "output_type": "stream",
     "text": [
      "Note: you may need to restart the kernel to use updated packages.\n"
     ]
    }
   ],
   "source": [
    "%pip install -qU langchain_community beautifulsoup4"
   ]
  },
  {
   "cell_type": "code",
   "execution_count": 1,
   "metadata": {},
   "outputs": [],
   "source": [
    "from langchain_groq import ChatGroq\n",
    "\n",
    "llm = ChatGroq(\n",
    "    model=\"llama-3.1-70b-versatile\",\n",
    "    temperature=0,\n",
    "    groq_api_key = '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'\n",
    ")"
   ]
  },
  {
   "cell_type": "code",
   "execution_count": 2,
   "metadata": {},
   "outputs": [
    {
     "name": "stdout",
     "output_type": "stream",
     "text": [
      "The first person to land on the moon was Neil Armstrong.  He stepped out of the lunar module Eagle and onto the moon's surface on July 20, 1969, during the Apollo 11 mission.\n"
     ]
    }
   ],
   "source": [
    "response = llm.invoke(\"who is the first person to land on the moon?\")\n",
    "print(response.content)"
   ]
  },
  {
   "cell_type": "code",
   "execution_count": 10,
   "metadata": {},
   "outputs": [
    {
     "name": "stdout",
     "output_type": "stream",
     "text": [
      "Bewirb dich für Lead Cyber Defense Incident Responder\n",
      "\n",
      "JobsucheNavigation überspringenJobsucheNIKE, INC. JOBSBefristete JobsJoin The Talent CommunityUnser Leben bei NikeÜbersichtLeistungenMarkenÜbersichtJordanConverseTeamsÜbersichtAdministrative SupportAdvanced InnovationAir Manufacturing InnovationAviationCommunicationsCustomer ServiceDesignDigitalFacilitiesFinance & AccountingGovernment & Public Affairs\n",
      "Human ResourcesData & AnalyticsLegalManufacturing & EngineeringMarketingMerchandisingPlanningPrivacyProcurementProduct Creation, Development & ManagementRetail CorporateRetail StoresSalesSocial & Community ImpactSports MarketingStrategic PlanningSupply Chain, Distribution & LogisticsSustainabilityTechnologyStandorteÜbersichtNike WHQNike New York HQEHQ: Hilversum, NiederlandeELC: Laakdal, BelgiumGreater China HQDiversität, Gleichstellung und InklusionÜbersichtMilitärBehinderung und InklusionInklusion der indigenen BevölkerungPraktikaTechnologyLead Cyber Defense Incident ResponderShanghai, China MainlandWerde Teil des Teams von NIKE, Inc.  NIKE, Inc. stattet nicht nur die besten Athleten der Welt aus. Wir erkunden neue Möglichkeiten, finden Wege und überwinden die Grenzen des Machbaren. Unser Unternehmen sucht nach Menschen, die wachsen, denken, träumen und gestalten möchten. Unsere Unternehmenskultur schätzt Vielfalt und belohnt Einfallsreichtum. Unsere Marke sucht Menschen, die ihre Ziele erreichen, Führungsfähigkeiten haben und den Blick in die Zukunft richten. Bei NIKE, Inc. bringen alle Mitarbeiterinnen und Mitarbeiter ihre Fähigkeiten ein und nehmen immer neue Herausforderungen mit Leidenschaft an.NIKE ist ein Technologieunternehmen. Unsere Teams bei NIKE Global Technology revolutionieren die Zukunft in der Synergie von Technik und Sport – von unserer state-of-the-art Website und unseren 5-Sterne-Apps bis hin zu Produktentwicklung, Verwaltung von Big Data und hochmodernem Engineering und Systemsupport. Wir investieren in Technologien und entwickeln sie weiter. Bei uns arbeiten einige der kreativsten Köpfe der Welt. Wir unterstützen sie darin, Kunden zu helfen, sich neu- und weiterzuentwickeln und ihnen dabei direkt und persönlich zu helfen.  Unsere Teams sind innovativ, vielseitig und Meister mehrerer Disziplinen. Gemeinsam treiben sie Technologie an und nehmen die Welt dabei gleich mit.Become a Part of the Nike Team Nike does more than outfit the world’s best athletes. We are a place to explore potential, obliterate boundaries, and push out the edges of what can be. We’re looking for people who can grow, think, dream and create. We thrive in a culture that embraces diversity and rewards imagination. We seek achievers, leaders and visionaries. At Nike, it’s about bringing what you have to a challenging and constantly evolving game. Nike Tech brings together technology and process expertise to create value for the consumer. We deliver one-stop, integrated process and technology capabilities that enable Nike, Inc.'s businesses and brands worldwide. Our focus is on providing lean solutions that eliminate waste, maximize consumer value, and drive profitable business growth. The Lead Cyber Defense Incident Responder will be responsible for identifying, containing and eradicating cyber security incidents. This position uses a wide range of tools and experience to perform the incident response functions, focusing primarily on cloud security, application security and Unix/Linux operating systems. You will work closely with Incident Coordinators and will assist in defining the scope, framework and procedures to facilitate and measure successful security incident management. Further this position will be responsible for working with other Information Security staff to enhance or develop new security controls to proactively reduce further issues or provide enriched detective and reactive capabilities. Successful Lead Cyber Defense Incident Responders must be detail oriented, have exceptional organizational, written, and verbal communication skills adept at remaining calm and making good decisions under pressure, and a drive to enhance security controls.What We're Looking ForTo make it clear, we're not looking for just anyone.  We're looking for someone special, someone who has in-depth experience and clearly demonstrates these skills: Experience DesiredSolid knowledge of information security principles and practiceMinimum five years of security monitoring experience and incident response activities; preferably within a professional services firm or similar environmentStrong knowledge of incident response and crisis management with the ability to identify both tactical and strategic solutions using strong verbal and written communication skillProven track record of creating an incident management framework and processesComfortable with interfacing with other internal or external organizations regarding security policy and standards violations, security controls failure and incident response situationUnderstanding of network, desktop and server technologies, including experience with network intrusion methods, network containment, segregation techniques and technologies such as Intrusion Detection Systems (IDS) and Intrusion Protection Systems (IPS)Cloud security knowledge and skills; securing cloud environments as well as detecting and responding to cyber security incidents in the cloudLog (network, security, access, OS, application, etc.) analysis skills and experience in relation to identifying and investigating security incidentsProficiency with Windows, Mac OSX and LinuxUnderstanding of application security and dev-sec-opsCoding/scripting experience (PowerShell, Python, Ruby, Java, VB Scripting etc.)Malware analysis, virus exploitation and mitigation techniques experience.The ability to learn and apply new concepts quicklyResolves problems independently and/or through a support teamKnowledge of ITIL best practices and process improvementsAbility to balance and prioritize workMust be trustworthy in keeping sensitive data confidentialAdditional skills and qualifications preferred, but not required.One or more of the following professional certificationsCertified Information Security Professional (CISSP)Global Information Assurance Certifications (GIAC)Education and ExperienceRequires a Bachelor’s degree in computer science or related field, or equivalent work experienceFive years of information technology experience with three years in an information security-related roleNIKE, Inc. ist ein Wachstumsunternehmen, das nach Mitarbeiterinnen und Mitarbeitern sucht, die mit uns wachsen möchten. Nike bietet ein großzügiges Leistungspaket, ein ungezwungenes Arbeitsumfeld, eine vielfältige und inklusive Unternehmenskultur und eine Atmosphäre, die berufliche Weiterentwicklung begünstigt. Unabhängig von Standort und Rolle verfolgen alle Beschäftigten von Nike gemeinsam ein Ziel: Jedem Athleten* der Welt Inspiration und Innovation zu bringen.NIKE, Inc. legt bei der Auswahl seiner Mitarbeiter Wert auf Vielfalt. Wir prüfen qualifizierte Bewerber ohne Berücksichtigung von ethnischer Zugehörigkeit, Herkunft, Religion, Nationalität, Alter, sexueller Orientierung, Geschlecht, Geschlechtsidentität, Veteranenstatus und Behinderung.Unser EinstellungsverfahrenWir bei NIKE, Inc. sind darauf bedacht, ein erstklassiges, integratives, spannendes und authentisches Bewerbungsverfahren zu bieten. Das heißt: Wir wollen, dass du dich von deiner besten Seite zeigen kannst. Dazu solltest du wissen, wie unser Einstellungsverfahren funktioniert. Transparenz ist der Schlüssel.\n",
      "\n",
      "*In dieser Übersicht wird unser Einstellungsverfahren für unternehmensinterne Rollen erläutert. Beachte, dass für nicht unternehmensinterne Rollen möglicherweise abweichende Einstellungsschritte erforderlich sind.Jetzt anfangenLeistungenVon der Mobilität bis hin zu finanzieller Sicherheit: Wir investieren fortwährend in unsere Mitarbeiter, um ihnen dabei zu helfen, Großes zu leisten – am Arbeitsplatz und darüber hinaus. All unsere Mitarbeiter sollen in der Lage sein, ihr volles Potenzial auszuschöpfen.Mitarbeiterberatung und ‑unterstützungUrlaubKrankenversicherungBezahlter UrlaubRabatt auf ProdukteMehr erfahrenGESCHENKGUTSCHEINESTORE SUCHENNIKE JOURNALMEMBER WERDENSTUDENTENRABATTFEEDBACKAKTIONSCODESHILFEHILFEBestellstatusVersand und LieferungRückgabeZahlungsoptionenKontaktNike Aktionscodes - HilfeÜBER NIKEÜBER NIKENeuigkeitenKarriereInvestorenNachhaltigkeitNIKE APPSNIKE APPSNike AppNike Run ClubNike Training ClubSNKRSDeutschland© 2024 Nike, Inc. Alle Rechte vorbehaltenGuidesNike AdaptNike FlyEaseNike FreeNike VaporflyNBA-FanausrüstungNike AirNike FlyknitNike PegasusNike Zoom FlyFactory StoreNike Air MaxNike FlyleatherNike ReactNike ZoomXKids AirtopiaNutzungsbedingungenVerkaufsbedingungenImpressumDatenschutzrichtlinie und Cookie-ErklärungCookie-Einstellungen ändern.\n"
     ]
    }
   ],
   "source": [
    "from langchain_community.document_loaders import WebBaseLoader\n",
    "\n",
    "loader = WebBaseLoader(\"https://jobs.nike.com/job/R-36945\")\n",
    "page_data = loader.load().pop().page_content\n",
    "print(page_data)"
   ]
  },
  {
   "cell_type": "code",
   "execution_count": 12,
   "metadata": {},
   "outputs": [
    {
     "name": "stdout",
     "output_type": "stream",
     "text": [
      "```\n",
      "{\n",
      "  \"role\": \"Lead Cyber Defense Incident Responder\",\n",
      "  \"experience\": \"Minimum five years of security monitoring experience and incident response activities; preferably within a professional services firm or similar environment\",\n",
      "  \"skills\": [\n",
      "    \"Solid knowledge of information security principles and practice\",\n",
      "    \"Strong knowledge of incident response and crisis management\",\n",
      "    \"Cloud security knowledge and skills\",\n",
      "    \"Log (network, security, access, OS, application, etc.) analysis skills\",\n",
      "    \"Proficiency with Windows, Mac OSX and Linux\",\n",
      "    \"Understanding of application security and dev-sec-ops\",\n",
      "    \"Coding/scripting experience (PowerShell, Python, Ruby, Java, VB Scripting etc.)\",\n",
      "    \"Malware analysis, virus exploitation and mitigation techniques experience\"\n",
      "  ],\n",
      "  \"description\": \"The Lead Cyber Defense Incident Responder will be responsible for identifying, containing and eradicating cyber security incidents. This position uses a wide range of tools and experience to perform the incident response functions, focusing primarily on cloud security, application security and Unix/Linux operating systems.\"\n",
      "}\n",
      "```\n"
     ]
    }
   ],
   "source": [
    "from langchain_core.prompts import PromptTemplate\n",
    "\n",
    "prompt_extract = PromptTemplate.from_template(\n",
    "        \"\"\"\n",
    "        ### SCRAPED TEXT FROM WEBSITE:\n",
    "        {page_data}\n",
    "        ### INSTRUCTION:\n",
    "        The scraped text is from the career's page of a website.\n",
    "        Your job is to extract the job postings and return them in JSON format containing the \n",
    "        following keys: `role`, `experience`, `skills` and `description`.\n",
    "        Only return the valid JSON.\n",
    "        ### VALID JSON (NO PREAMBLE):    \n",
    "        \"\"\"\n",
    ")\n",
    "\n",
    "chain_extract = prompt_extract | llm\n",
    "res = chain_extract.invoke(input={'page_data':page_data})\n",
    "print(res.content)\n"
   ]
  },
  {
   "cell_type": "code",
   "execution_count": 13,
   "metadata": {},
   "outputs": [
    {
     "data": {
      "text/plain": [
       "str"
      ]
     },
     "execution_count": 13,
     "metadata": {},
     "output_type": "execute_result"
    }
   ],
   "source": [
    "type(res.content)"
   ]
  },
  {
   "cell_type": "code",
   "execution_count": 14,
   "metadata": {},
   "outputs": [
    {
     "data": {
      "text/plain": [
       "{'role': 'Lead Cyber Defense Incident Responder',\n",
       " 'experience': 'Minimum five years of security monitoring experience and incident response activities; preferably within a professional services firm or similar environment',\n",
       " 'skills': ['Solid knowledge of information security principles and practice',\n",
       "  'Strong knowledge of incident response and crisis management',\n",
       "  'Cloud security knowledge and skills',\n",
       "  'Log (network, security, access, OS, application, etc.) analysis skills',\n",
       "  'Proficiency with Windows, Mac OSX and Linux',\n",
       "  'Understanding of application security and dev-sec-ops',\n",
       "  'Coding/scripting experience (PowerShell, Python, Ruby, Java, VB Scripting etc.)',\n",
       "  'Malware analysis, virus exploitation and mitigation techniques experience'],\n",
       " 'description': 'The Lead Cyber Defense Incident Responder will be responsible for identifying, containing and eradicating cyber security incidents. This position uses a wide range of tools and experience to perform the incident response functions, focusing primarily on cloud security, application security and Unix/Linux operating systems.'}"
      ]
     },
     "execution_count": 14,
     "metadata": {},
     "output_type": "execute_result"
    }
   ],
   "source": [
    "from langchain_core.output_parsers import JsonOutputParser\n",
    "\n",
    "json_parser = JsonOutputParser()\n",
    "json_res = json_parser.parse(res.content)\n",
    "json_res"
   ]
  },
  {
   "cell_type": "code",
   "execution_count": 15,
   "metadata": {},
   "outputs": [
    {
     "data": {
      "text/plain": [
       "dict"
      ]
     },
     "execution_count": 15,
     "metadata": {},
     "output_type": "execute_result"
    }
   ],
   "source": [
    "type(json_res)"
   ]
  },
  {
   "cell_type": "code",
   "execution_count": 17,
   "metadata": {},
   "outputs": [
    {
     "name": "stdout",
     "output_type": "stream",
     "text": [
      "Collecting pandas\n",
      "  Downloading pandas-2.2.2-cp312-cp312-win_amd64.whl.metadata (19 kB)\n",
      "Requirement already satisfied: numpy>=1.26.0 in c:\\users\\shrut\\onedrive\\documents\\llama_3.1\\llm_env\\lib\\site-packages (from pandas) (1.26.4)\n",
      "Requirement already satisfied: python-dateutil>=2.8.2 in c:\\users\\shrut\\onedrive\\documents\\llama_3.1\\llm_env\\lib\\site-packages (from pandas) (2.9.0.post0)\n",
      "Collecting pytz>=2020.1 (from pandas)\n",
      "  Downloading pytz-2024.1-py2.py3-none-any.whl.metadata (22 kB)\n",
      "Collecting tzdata>=2022.7 (from pandas)\n",
      "  Downloading tzdata-2024.1-py2.py3-none-any.whl.metadata (1.4 kB)\n",
      "Requirement already satisfied: six>=1.5 in c:\\users\\shrut\\onedrive\\documents\\llama_3.1\\llm_env\\lib\\site-packages (from python-dateutil>=2.8.2->pandas) (1.16.0)\n",
      "Downloading pandas-2.2.2-cp312-cp312-win_amd64.whl (11.5 MB)\n",
      "   ---------------------------------------- 0.0/11.5 MB ? eta -:--:--\n",
      "   -- ------------------------------------- 0.8/11.5 MB 4.8 MB/s eta 0:00:03\n",
      "   ------- -------------------------------- 2.1/11.5 MB 5.6 MB/s eta 0:00:02\n",
      "   ----------- ---------------------------- 3.4/11.5 MB 5.9 MB/s eta 0:00:02\n",
      "   ---------------- ----------------------- 4.7/11.5 MB 6.1 MB/s eta 0:00:02\n",
      "   -------------------- ------------------- 6.0/11.5 MB 6.1 MB/s eta 0:00:01\n",
      "   ------------------------- -------------- 7.3/11.5 MB 6.2 MB/s eta 0:00:01\n",
      "   ------------------------------ --------- 8.7/11.5 MB 6.2 MB/s eta 0:00:01\n",
      "   ----------------------------------- ---- 10.2/11.5 MB 6.2 MB/s eta 0:00:01\n",
      "   ---------------------------------------  11.3/11.5 MB 6.2 MB/s eta 0:00:01\n",
      "   ---------------------------------------- 11.5/11.5 MB 6.1 MB/s eta 0:00:00\n",
      "Downloading pytz-2024.1-py2.py3-none-any.whl (505 kB)\n",
      "Downloading tzdata-2024.1-py2.py3-none-any.whl (345 kB)\n",
      "Installing collected packages: pytz, tzdata, pandas\n",
      "Successfully installed pandas-2.2.2 pytz-2024.1 tzdata-2024.1\n",
      "Note: you may need to restart the kernel to use updated packages.\n"
     ]
    }
   ],
   "source": [
    "%pip install pandas"
   ]
  },
  {
   "cell_type": "code",
   "execution_count": 18,
   "metadata": {},
   "outputs": [],
   "source": [
    "import pandas as pd\n",
    "\n",
    "df = pd.read_csv(\"my_portfolio.csv\")"
   ]
  },
  {
   "cell_type": "code",
   "execution_count": 22,
   "metadata": {},
   "outputs": [
    {
     "ename": "UniqueConstraintError",
     "evalue": "Collection portfolio already exists",
     "output_type": "error",
     "traceback": [
      "\u001b[1;31m---------------------------------------------------------------------------\u001b[0m",
      "\u001b[1;31mUniqueConstraintError\u001b[0m                     Traceback (most recent call last)",
      "Cell \u001b[1;32mIn[22], line 3\u001b[0m\n\u001b[0;32m      1\u001b[0m \u001b[38;5;28;01mimport\u001b[39;00m \u001b[38;5;21;01mchromadb\u001b[39;00m\n\u001b[0;32m      2\u001b[0m chroma_client \u001b[38;5;241m=\u001b[39m chromadb\u001b[38;5;241m.\u001b[39mPersistentClient(\u001b[38;5;124m'\u001b[39m\u001b[38;5;124mvectorstore\u001b[39m\u001b[38;5;124m'\u001b[39m)\n\u001b[1;32m----> 3\u001b[0m collection \u001b[38;5;241m=\u001b[39m \u001b[43mchroma_client\u001b[49m\u001b[38;5;241;43m.\u001b[39;49m\u001b[43mcreate_collection\u001b[49m\u001b[43m(\u001b[49m\u001b[43mname\u001b[49m\u001b[38;5;241;43m=\u001b[39;49m\u001b[38;5;124;43m\"\u001b[39;49m\u001b[38;5;124;43mportfolio\u001b[39;49m\u001b[38;5;124;43m\"\u001b[39;49m\u001b[43m)\u001b[49m\n\u001b[0;32m      5\u001b[0m \u001b[38;5;28;01mif\u001b[39;00m \u001b[38;5;129;01mnot\u001b[39;00m collection\u001b[38;5;241m.\u001b[39mcount():\n\u001b[0;32m      6\u001b[0m     \u001b[38;5;28;01mfor\u001b[39;00m _, row \u001b[38;5;129;01min\u001b[39;00m df\u001b[38;5;241m.\u001b[39miterrows():\n",
      "File \u001b[1;32mc:\\Users\\shrut\\OneDrive\\Documents\\llama_3.1\\llm_env\\Lib\\site-packages\\chromadb\\api\\client.py:117\u001b[0m, in \u001b[0;36mClient.create_collection\u001b[1;34m(self, name, configuration, metadata, embedding_function, data_loader, get_or_create)\u001b[0m\n\u001b[0;32m    105\u001b[0m \u001b[38;5;129m@override\u001b[39m\n\u001b[0;32m    106\u001b[0m \u001b[38;5;28;01mdef\u001b[39;00m \u001b[38;5;21mcreate_collection\u001b[39m(\n\u001b[0;32m    107\u001b[0m     \u001b[38;5;28mself\u001b[39m,\n\u001b[1;32m   (...)\u001b[0m\n\u001b[0;32m    115\u001b[0m     get_or_create: \u001b[38;5;28mbool\u001b[39m \u001b[38;5;241m=\u001b[39m \u001b[38;5;28;01mFalse\u001b[39;00m,\n\u001b[0;32m    116\u001b[0m ) \u001b[38;5;241m-\u001b[39m\u001b[38;5;241m>\u001b[39m Collection:\n\u001b[1;32m--> 117\u001b[0m     model \u001b[38;5;241m=\u001b[39m \u001b[38;5;28;43mself\u001b[39;49m\u001b[38;5;241;43m.\u001b[39;49m\u001b[43m_server\u001b[49m\u001b[38;5;241;43m.\u001b[39;49m\u001b[43mcreate_collection\u001b[49m\u001b[43m(\u001b[49m\n\u001b[0;32m    118\u001b[0m \u001b[43m        \u001b[49m\u001b[43mname\u001b[49m\u001b[38;5;241;43m=\u001b[39;49m\u001b[43mname\u001b[49m\u001b[43m,\u001b[49m\n\u001b[0;32m    119\u001b[0m \u001b[43m        \u001b[49m\u001b[43mmetadata\u001b[49m\u001b[38;5;241;43m=\u001b[39;49m\u001b[43mmetadata\u001b[49m\u001b[43m,\u001b[49m\n\u001b[0;32m    120\u001b[0m \u001b[43m        \u001b[49m\u001b[43mtenant\u001b[49m\u001b[38;5;241;43m=\u001b[39;49m\u001b[38;5;28;43mself\u001b[39;49m\u001b[38;5;241;43m.\u001b[39;49m\u001b[43mtenant\u001b[49m\u001b[43m,\u001b[49m\n\u001b[0;32m    121\u001b[0m \u001b[43m        \u001b[49m\u001b[43mdatabase\u001b[49m\u001b[38;5;241;43m=\u001b[39;49m\u001b[38;5;28;43mself\u001b[39;49m\u001b[38;5;241;43m.\u001b[39;49m\u001b[43mdatabase\u001b[49m\u001b[43m,\u001b[49m\n\u001b[0;32m    122\u001b[0m \u001b[43m        \u001b[49m\u001b[43mget_or_create\u001b[49m\u001b[38;5;241;43m=\u001b[39;49m\u001b[43mget_or_create\u001b[49m\u001b[43m,\u001b[49m\n\u001b[0;32m    123\u001b[0m \u001b[43m        \u001b[49m\u001b[43mconfiguration\u001b[49m\u001b[38;5;241;43m=\u001b[39;49m\u001b[43mconfiguration\u001b[49m\u001b[43m,\u001b[49m\n\u001b[0;32m    124\u001b[0m \u001b[43m    \u001b[49m\u001b[43m)\u001b[49m\n\u001b[0;32m    125\u001b[0m     \u001b[38;5;28;01mreturn\u001b[39;00m Collection(\n\u001b[0;32m    126\u001b[0m         client\u001b[38;5;241m=\u001b[39m\u001b[38;5;28mself\u001b[39m\u001b[38;5;241m.\u001b[39m_server,\n\u001b[0;32m    127\u001b[0m         model\u001b[38;5;241m=\u001b[39mmodel,\n\u001b[0;32m    128\u001b[0m         embedding_function\u001b[38;5;241m=\u001b[39membedding_function,\n\u001b[0;32m    129\u001b[0m         data_loader\u001b[38;5;241m=\u001b[39mdata_loader,\n\u001b[0;32m    130\u001b[0m     )\n",
      "File \u001b[1;32mc:\\Users\\shrut\\OneDrive\\Documents\\llama_3.1\\llm_env\\Lib\\site-packages\\chromadb\\telemetry\\opentelemetry\\__init__.py:146\u001b[0m, in \u001b[0;36mtrace_method.<locals>.decorator.<locals>.wrapper\u001b[1;34m(*args, **kwargs)\u001b[0m\n\u001b[0;32m    144\u001b[0m \u001b[38;5;28;01mglobal\u001b[39;00m tracer, granularity\n\u001b[0;32m    145\u001b[0m \u001b[38;5;28;01mif\u001b[39;00m trace_granularity \u001b[38;5;241m<\u001b[39m granularity:\n\u001b[1;32m--> 146\u001b[0m     \u001b[38;5;28;01mreturn\u001b[39;00m \u001b[43mf\u001b[49m\u001b[43m(\u001b[49m\u001b[38;5;241;43m*\u001b[39;49m\u001b[43margs\u001b[49m\u001b[43m,\u001b[49m\u001b[43m \u001b[49m\u001b[38;5;241;43m*\u001b[39;49m\u001b[38;5;241;43m*\u001b[39;49m\u001b[43mkwargs\u001b[49m\u001b[43m)\u001b[49m\n\u001b[0;32m    147\u001b[0m \u001b[38;5;28;01mif\u001b[39;00m \u001b[38;5;129;01mnot\u001b[39;00m tracer:\n\u001b[0;32m    148\u001b[0m     \u001b[38;5;28;01mreturn\u001b[39;00m f(\u001b[38;5;241m*\u001b[39margs, \u001b[38;5;241m*\u001b[39m\u001b[38;5;241m*\u001b[39mkwargs)\n",
      "File \u001b[1;32mc:\\Users\\shrut\\OneDrive\\Documents\\llama_3.1\\llm_env\\Lib\\site-packages\\chromadb\\api\\segment.py:176\u001b[0m, in \u001b[0;36mSegmentAPI.create_collection\u001b[1;34m(self, name, configuration, metadata, get_or_create, tenant, database)\u001b[0m\n\u001b[0;32m    164\u001b[0m model \u001b[38;5;241m=\u001b[39m CollectionModel(\n\u001b[0;32m    165\u001b[0m     \u001b[38;5;28mid\u001b[39m\u001b[38;5;241m=\u001b[39m\u001b[38;5;28mid\u001b[39m,\n\u001b[0;32m    166\u001b[0m     name\u001b[38;5;241m=\u001b[39mname,\n\u001b[1;32m   (...)\u001b[0m\n\u001b[0;32m    173\u001b[0m     dimension\u001b[38;5;241m=\u001b[39m\u001b[38;5;28;01mNone\u001b[39;00m,\n\u001b[0;32m    174\u001b[0m )\n\u001b[0;32m    175\u001b[0m \u001b[38;5;66;03m# TODO: Let sysdb create the collection directly from the model\u001b[39;00m\n\u001b[1;32m--> 176\u001b[0m coll, created \u001b[38;5;241m=\u001b[39m \u001b[38;5;28;43mself\u001b[39;49m\u001b[38;5;241;43m.\u001b[39;49m\u001b[43m_sysdb\u001b[49m\u001b[38;5;241;43m.\u001b[39;49m\u001b[43mcreate_collection\u001b[49m\u001b[43m(\u001b[49m\n\u001b[0;32m    177\u001b[0m \u001b[43m    \u001b[49m\u001b[38;5;28;43mid\u001b[39;49m\u001b[38;5;241;43m=\u001b[39;49m\u001b[43mmodel\u001b[49m\u001b[38;5;241;43m.\u001b[39;49m\u001b[43mid\u001b[49m\u001b[43m,\u001b[49m\n\u001b[0;32m    178\u001b[0m \u001b[43m    \u001b[49m\u001b[43mname\u001b[49m\u001b[38;5;241;43m=\u001b[39;49m\u001b[43mmodel\u001b[49m\u001b[38;5;241;43m.\u001b[39;49m\u001b[43mname\u001b[49m\u001b[43m,\u001b[49m\n\u001b[0;32m    179\u001b[0m \u001b[43m    \u001b[49m\u001b[43mconfiguration\u001b[49m\u001b[38;5;241;43m=\u001b[39;49m\u001b[43mmodel\u001b[49m\u001b[38;5;241;43m.\u001b[39;49m\u001b[43mget_configuration\u001b[49m\u001b[43m(\u001b[49m\u001b[43m)\u001b[49m\u001b[43m,\u001b[49m\n\u001b[0;32m    180\u001b[0m \u001b[43m    \u001b[49m\u001b[43mmetadata\u001b[49m\u001b[38;5;241;43m=\u001b[39;49m\u001b[43mmodel\u001b[49m\u001b[38;5;241;43m.\u001b[39;49m\u001b[43mmetadata\u001b[49m\u001b[43m,\u001b[49m\n\u001b[0;32m    181\u001b[0m \u001b[43m    \u001b[49m\u001b[43mdimension\u001b[49m\u001b[38;5;241;43m=\u001b[39;49m\u001b[38;5;28;43;01mNone\u001b[39;49;00m\u001b[43m,\u001b[49m\u001b[43m  \u001b[49m\u001b[38;5;66;43;03m# This is lazily populated on the first add\u001b[39;49;00m\n\u001b[0;32m    182\u001b[0m \u001b[43m    \u001b[49m\u001b[43mget_or_create\u001b[49m\u001b[38;5;241;43m=\u001b[39;49m\u001b[43mget_or_create\u001b[49m\u001b[43m,\u001b[49m\n\u001b[0;32m    183\u001b[0m \u001b[43m    \u001b[49m\u001b[43mtenant\u001b[49m\u001b[38;5;241;43m=\u001b[39;49m\u001b[43mtenant\u001b[49m\u001b[43m,\u001b[49m\n\u001b[0;32m    184\u001b[0m \u001b[43m    \u001b[49m\u001b[43mdatabase\u001b[49m\u001b[38;5;241;43m=\u001b[39;49m\u001b[43mdatabase\u001b[49m\u001b[43m,\u001b[49m\n\u001b[0;32m    185\u001b[0m \u001b[43m\u001b[49m\u001b[43m)\u001b[49m\n\u001b[0;32m    187\u001b[0m \u001b[38;5;66;03m# TODO: wrap sysdb call in try except and log error if it fails\u001b[39;00m\n\u001b[0;32m    188\u001b[0m \u001b[38;5;28;01mif\u001b[39;00m created:\n",
      "File \u001b[1;32mc:\\Users\\shrut\\OneDrive\\Documents\\llama_3.1\\llm_env\\Lib\\site-packages\\chromadb\\telemetry\\opentelemetry\\__init__.py:146\u001b[0m, in \u001b[0;36mtrace_method.<locals>.decorator.<locals>.wrapper\u001b[1;34m(*args, **kwargs)\u001b[0m\n\u001b[0;32m    144\u001b[0m \u001b[38;5;28;01mglobal\u001b[39;00m tracer, granularity\n\u001b[0;32m    145\u001b[0m \u001b[38;5;28;01mif\u001b[39;00m trace_granularity \u001b[38;5;241m<\u001b[39m granularity:\n\u001b[1;32m--> 146\u001b[0m     \u001b[38;5;28;01mreturn\u001b[39;00m \u001b[43mf\u001b[49m\u001b[43m(\u001b[49m\u001b[38;5;241;43m*\u001b[39;49m\u001b[43margs\u001b[49m\u001b[43m,\u001b[49m\u001b[43m \u001b[49m\u001b[38;5;241;43m*\u001b[39;49m\u001b[38;5;241;43m*\u001b[39;49m\u001b[43mkwargs\u001b[49m\u001b[43m)\u001b[49m\n\u001b[0;32m    147\u001b[0m \u001b[38;5;28;01mif\u001b[39;00m \u001b[38;5;129;01mnot\u001b[39;00m tracer:\n\u001b[0;32m    148\u001b[0m     \u001b[38;5;28;01mreturn\u001b[39;00m f(\u001b[38;5;241m*\u001b[39margs, \u001b[38;5;241m*\u001b[39m\u001b[38;5;241m*\u001b[39mkwargs)\n",
      "File \u001b[1;32mc:\\Users\\shrut\\OneDrive\\Documents\\llama_3.1\\llm_env\\Lib\\site-packages\\chromadb\\db\\mixins\\sysdb.py:229\u001b[0m, in \u001b[0;36mSqlSysDB.create_collection\u001b[1;34m(self, id, name, configuration, metadata, dimension, get_or_create, tenant, database)\u001b[0m\n\u001b[0;32m    222\u001b[0m         \u001b[38;5;28;01mreturn\u001b[39;00m (\n\u001b[0;32m    223\u001b[0m             \u001b[38;5;28mself\u001b[39m\u001b[38;5;241m.\u001b[39mget_collections(\n\u001b[0;32m    224\u001b[0m                 \u001b[38;5;28mid\u001b[39m\u001b[38;5;241m=\u001b[39mcollection[\u001b[38;5;124m\"\u001b[39m\u001b[38;5;124mid\u001b[39m\u001b[38;5;124m\"\u001b[39m], tenant\u001b[38;5;241m=\u001b[39mtenant, database\u001b[38;5;241m=\u001b[39mdatabase\n\u001b[0;32m    225\u001b[0m             )[\u001b[38;5;241m0\u001b[39m],\n\u001b[0;32m    226\u001b[0m             \u001b[38;5;28;01mFalse\u001b[39;00m,\n\u001b[0;32m    227\u001b[0m         )\n\u001b[0;32m    228\u001b[0m     \u001b[38;5;28;01melse\u001b[39;00m:\n\u001b[1;32m--> 229\u001b[0m         \u001b[38;5;28;01mraise\u001b[39;00m UniqueConstraintError(\u001b[38;5;124mf\u001b[39m\u001b[38;5;124m\"\u001b[39m\u001b[38;5;124mCollection \u001b[39m\u001b[38;5;132;01m{\u001b[39;00mname\u001b[38;5;132;01m}\u001b[39;00m\u001b[38;5;124m already exists\u001b[39m\u001b[38;5;124m\"\u001b[39m)\n\u001b[0;32m    231\u001b[0m collection \u001b[38;5;241m=\u001b[39m Collection(\n\u001b[0;32m    232\u001b[0m     \u001b[38;5;28mid\u001b[39m\u001b[38;5;241m=\u001b[39m\u001b[38;5;28mid\u001b[39m,\n\u001b[0;32m    233\u001b[0m     name\u001b[38;5;241m=\u001b[39mname,\n\u001b[1;32m   (...)\u001b[0m\n\u001b[0;32m    239\u001b[0m     version\u001b[38;5;241m=\u001b[39m\u001b[38;5;241m0\u001b[39m,\n\u001b[0;32m    240\u001b[0m )\n\u001b[0;32m    242\u001b[0m \u001b[38;5;28;01mwith\u001b[39;00m \u001b[38;5;28mself\u001b[39m\u001b[38;5;241m.\u001b[39mtx() \u001b[38;5;28;01mas\u001b[39;00m cur:\n",
      "\u001b[1;31mUniqueConstraintError\u001b[0m: Collection portfolio already exists"
     ]
    }
   ],
   "source": [
    "import chromadb\n",
    "chroma_client = chromadb.PersistentClient('vectorstore')\n",
    "collection = chroma_client.create_collection(name=\"portfolio\")"
   ]
  },
  {
   "cell_type": "code",
   "execution_count": 24,
   "metadata": {},
   "outputs": [],
   "source": [
    "import uuid\n",
    "\n",
    "if not collection.count():\n",
    "    for _, row in df.iterrows():\n",
    "        collection.add(documents=row[\"Techstack\"], metadatas={\"links\":row[\"Links\"]}, ids = [str(uuid.uuid4())])"
   ]
  },
  {
   "cell_type": "code",
   "execution_count": 26,
   "metadata": {},
   "outputs": [
    {
     "data": {
      "text/plain": [
       "['Solid knowledge of information security principles and practice',\n",
       " 'Strong knowledge of incident response and crisis management',\n",
       " 'Cloud security knowledge and skills',\n",
       " 'Log (network, security, access, OS, application, etc.) analysis skills',\n",
       " 'Proficiency with Windows, Mac OSX and Linux',\n",
       " 'Understanding of application security and dev-sec-ops',\n",
       " 'Coding/scripting experience (PowerShell, Python, Ruby, Java, VB Scripting etc.)',\n",
       " 'Malware analysis, virus exploitation and mitigation techniques experience']"
      ]
     },
     "execution_count": 26,
     "metadata": {},
     "output_type": "execute_result"
    }
   ],
   "source": [
    "job = json_res\n",
    "job['skills']"
   ]
  },
  {
   "cell_type": "code",
   "execution_count": 27,
   "metadata": {},
   "outputs": [
    {
     "data": {
      "text/plain": [
       "[[{'links': 'https://example.com/ios-portfolio'},\n",
       "  {'links': 'https://example.com/angular-portfolio'}],\n",
       " [{'links': 'https://example.com/ml-python-portfolio'},\n",
       "  {'links': 'https://example.com/ios-portfolio'}],\n",
       " [{'links': 'https://example.com/xamarin-portfolio'},\n",
       "  {'links': 'https://example.com/devops-portfolio'}],\n",
       " [{'links': 'https://example.com/ml-python-portfolio'},\n",
       "  {'links': 'https://example.com/android-portfolio'}],\n",
       " [{'links': 'https://example.com/xamarin-portfolio'},\n",
       "  {'links': 'https://example.com/ml-python-portfolio'}],\n",
       " [{'links': 'https://example.com/devops-portfolio'},\n",
       "  {'links': 'https://example.com/ios-ar-portfolio'}],\n",
       " [{'links': 'https://example.com/vue-portfolio'},\n",
       "  {'links': 'https://example.com/magento-portfolio'}],\n",
       " [{'links': 'https://example.com/ml-python-portfolio'},\n",
       "  {'links': 'https://example.com/magento-portfolio'}]]"
      ]
     },
     "execution_count": 27,
     "metadata": {},
     "output_type": "execute_result"
    }
   ],
   "source": [
    "links = collection.query(\n",
    "    query_texts=job['skills'], # Chroma will embed this for you\n",
    "    n_results=2 # how many results to return #ecuclidien distance\n",
    ").get('metadatas',[])\n",
    "links"
   ]
  },
  {
   "cell_type": "code",
   "execution_count": 28,
   "metadata": {},
   "outputs": [
    {
     "name": "stdout",
     "output_type": "stream",
     "text": [
      "Subject: Expert Cyber Defense Incident Response Solutions for Your Organization\n",
      "\n",
      "Dear Hiring Manager,\n",
      "\n",
      "I came across the job posting for a Lead Cyber Defense Incident Responder and was impressed by the organization's commitment to robust cybersecurity measures. As a Business Development Executive at ABC, an AI & Software Consulting company, I'd like to introduce you to our team's expertise in providing tailored solutions that can support your incident response needs.\n",
      "\n",
      "Our team at ABC has extensive experience in developing and implementing cutting-edge solutions that cater to various industries. We've empowered numerous enterprises with our scalable, process-optimized, and cost-effective solutions, resulting in heightened overall efficiency.\n",
      "\n",
      "In the realm of cybersecurity, our expertise includes:\n",
      "\n",
      "* Cloud security: We've developed cloud-based solutions that ensure the security and integrity of your data.\n",
      "* Application security: Our team has experience in securing applications and developing Dev-Sec-Ops solutions that meet the highest standards.\n",
      "* Unix/Linux operating systems: We're well-versed in developing solutions that cater to Unix/Linux environments.\n",
      "\n",
      "Our portfolio showcases our capabilities in:\n",
      "\n",
      "* DevOps: https://example.com/devops-portfolio\n",
      "* Cloud-based solutions: Our experience in developing cloud-based solutions can be seen in our iOS portfolio: https://example.com/ios-portfolio\n",
      "* Machine Learning and Python: Our expertise in ML and Python can be applied to various cybersecurity solutions, as seen in our portfolio: https://example.com/ml-python-portfolio\n",
      "\n",
      "Our team is equipped with the necessary skills to support your incident response needs, including:\n",
      "\n",
      "* Log analysis\n",
      "* Malware analysis and mitigation\n",
      "* Proficiency in Windows, Mac OSX, and Linux\n",
      "* Coding and scripting experience in languages such as PowerShell, Python, and Ruby\n",
      "\n",
      "We'd be delighted to discuss how our expertise can support your organization's cybersecurity needs. Please feel free to reply to this email or schedule a call at your convenience.\n",
      "\n",
      "Best regards,\n",
      "\n",
      "Stefy\n",
      "Business Development Executive\n",
      "ABC\n",
      "[Your Email Address]\n",
      "[Your Phone Number]\n"
     ]
    }
   ],
   "source": [
    "prompt_email = PromptTemplate.from_template(\n",
    "        \"\"\"\n",
    "        ### JOB DESCRIPTION:\n",
    "        {job_description}\n",
    "        \n",
    "        ### INSTRUCTION:\n",
    "        You are Stefy, a business development executive at ABC. ABC is an AI & Software Consulting company dedicated to facilitating\n",
    "        the seamless integration of business processes through automated tools. \n",
    "        Over our experience, we have empowered numerous enterprises with tailored solutions, fostering scalability, \n",
    "        process optimization, cost reduction, and heightened overall efficiency. \n",
    "        Your job is to write a cold email to the client regarding the job mentioned above describing the capability of ABC \n",
    "        in fulfilling their needs.\n",
    "        Also add the most relevant ones from the following links to showcase ABC's portfolio: {link_list}\n",
    "        Remember you are Stefy, BDE at ABC. \n",
    "        Do not provide a preamble.\n",
    "        ### EMAIL (NO PREAMBLE):\n",
    "        \n",
    "        \"\"\"\n",
    "        )\n",
    "\n",
    "chain_email = prompt_email | llm\n",
    "res = chain_email.invoke({\"job_description\": str(job), \"link_list\": links})\n",
    "print(res.content)"
   ]
  }
 ],
 "metadata": {
  "kernelspec": {
   "display_name": "llm_env",
   "language": "python",
   "name": "python3"
  },
  "language_info": {
   "codemirror_mode": {
    "name": "ipython",
    "version": 3
   },
   "file_extension": ".py",
   "mimetype": "text/x-python",
   "name": "python",
   "nbconvert_exporter": "python",
   "pygments_lexer": "ipython3",
   "version": "3.12.5"
  }
 },
 "nbformat": 4,
 "nbformat_minor": 2
}
