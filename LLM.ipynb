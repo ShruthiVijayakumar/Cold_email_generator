{
 "cells": [
  {
   "cell_type": "code",
   "execution_count": 22,
   "metadata": {},
   "outputs": [],
   "source": [
    "from dotenv import load_dotenv\n",
    "load_dotenv()\n",
    "\n",
    "from langchain_groq import ChatGroq\n",
    "import os\n",
    "\n",
    "llm = ChatGroq(\n",
    "    model=\"llama-3.1-70b-versatile\",\n",
    "    temperature=0,\n",
    "    groq_api_key = os.environ['GROQ_API_KEY']\n",
    ")"
   ]
  },
  {
   "cell_type": "code",
   "execution_count": 23,
   "metadata": {},
   "outputs": [
    {
     "name": "stdout",
     "output_type": "stream",
     "text": [
      "The first person to land on the moon was Neil Armstrong.  He stepped out of the lunar module Eagle and onto the moon's surface on July 20, 1969, during the Apollo 11 mission.\n"
     ]
    }
   ],
   "source": [
    "response = llm.invoke(\"who is the first person to land on the moon?\")\n",
    "print(response.content)"
   ]
  },
  {
   "cell_type": "code",
   "execution_count": 5,
   "metadata": {},
   "outputs": [
    {
     "name": "stderr",
     "output_type": "stream",
     "text": [
      "USER_AGENT environment variable not set, consider setting it to identify your requests.\n"
     ]
    },
    {
     "name": "stdout",
     "output_type": "stream",
     "text": [
      "Bewirb dich für Lead Cyber Defense Incident Responder\n",
      "\n",
      "JobsucheNavigation überspringenJobsucheNIKE, INC. JOBSBefristete JobsJoin The Talent CommunityUnser Leben bei NikeÜbersichtLeistungenMarkenÜbersichtJordanConverseTeamsÜbersichtAdministrative SupportAdvanced InnovationAir Manufacturing InnovationAviationCommunicationsCustomer ServiceDesignDigitalFacilitiesFinance & AccountingGovernment & Public Affairs\n",
      "Human ResourcesData & AnalyticsLegalManufacturing & EngineeringMarketingMerchandisingPlanningPrivacyProcurementProduct Creation, Development & ManagementRetail CorporateRetail StoresSalesSocial & Community ImpactSports MarketingStrategic PlanningSupply Chain, Distribution & LogisticsSustainabilityTechnologyStandorteÜbersichtNike WHQNike New York HQEHQ: Hilversum, NiederlandeELC: Laakdal, BelgiumGreater China HQDiversität, Gleichstellung und InklusionÜbersichtMilitärBehinderung und InklusionInklusion der indigenen BevölkerungPraktikaTechnologyLead Cyber Defense Incident ResponderShanghai, China MainlandWerde Teil des Teams von NIKE, Inc.  NIKE, Inc. stattet nicht nur die besten Athleten der Welt aus. Wir erkunden neue Möglichkeiten, finden Wege und überwinden die Grenzen des Machbaren. Unser Unternehmen sucht nach Menschen, die wachsen, denken, träumen und gestalten möchten. Unsere Unternehmenskultur schätzt Vielfalt und belohnt Einfallsreichtum. Unsere Marke sucht Menschen, die ihre Ziele erreichen, Führungsfähigkeiten haben und den Blick in die Zukunft richten. Bei NIKE, Inc. bringen alle Mitarbeiterinnen und Mitarbeiter ihre Fähigkeiten ein und nehmen immer neue Herausforderungen mit Leidenschaft an.NIKE ist ein Technologieunternehmen. Unsere Teams bei NIKE Global Technology revolutionieren die Zukunft in der Synergie von Technik und Sport – von unserer state-of-the-art Website und unseren 5-Sterne-Apps bis hin zu Produktentwicklung, Verwaltung von Big Data und hochmodernem Engineering und Systemsupport. Wir investieren in Technologien und entwickeln sie weiter. Bei uns arbeiten einige der kreativsten Köpfe der Welt. Wir unterstützen sie darin, Kunden zu helfen, sich neu- und weiterzuentwickeln und ihnen dabei direkt und persönlich zu helfen.  Unsere Teams sind innovativ, vielseitig und Meister mehrerer Disziplinen. Gemeinsam treiben sie Technologie an und nehmen die Welt dabei gleich mit.Become a Part of the Nike Team Nike does more than outfit the world’s best athletes. We are a place to explore potential, obliterate boundaries, and push out the edges of what can be. We’re looking for people who can grow, think, dream and create. We thrive in a culture that embraces diversity and rewards imagination. We seek achievers, leaders and visionaries. At Nike, it’s about bringing what you have to a challenging and constantly evolving game. Nike Tech brings together technology and process expertise to create value for the consumer. We deliver one-stop, integrated process and technology capabilities that enable Nike, Inc.'s businesses and brands worldwide. Our focus is on providing lean solutions that eliminate waste, maximize consumer value, and drive profitable business growth. The Lead Cyber Defense Incident Responder will be responsible for identifying, containing and eradicating cyber security incidents. This position uses a wide range of tools and experience to perform the incident response functions, focusing primarily on cloud security, application security and Unix/Linux operating systems. You will work closely with Incident Coordinators and will assist in defining the scope, framework and procedures to facilitate and measure successful security incident management. Further this position will be responsible for working with other Information Security staff to enhance or develop new security controls to proactively reduce further issues or provide enriched detective and reactive capabilities. Successful Lead Cyber Defense Incident Responders must be detail oriented, have exceptional organizational, written, and verbal communication skills adept at remaining calm and making good decisions under pressure, and a drive to enhance security controls.What We're Looking ForTo make it clear, we're not looking for just anyone.  We're looking for someone special, someone who has in-depth experience and clearly demonstrates these skills: Experience DesiredSolid knowledge of information security principles and practiceMinimum five years of security monitoring experience and incident response activities; preferably within a professional services firm or similar environmentStrong knowledge of incident response and crisis management with the ability to identify both tactical and strategic solutions using strong verbal and written communication skillProven track record of creating an incident management framework and processesComfortable with interfacing with other internal or external organizations regarding security policy and standards violations, security controls failure and incident response situationUnderstanding of network, desktop and server technologies, including experience with network intrusion methods, network containment, segregation techniques and technologies such as Intrusion Detection Systems (IDS) and Intrusion Protection Systems (IPS)Cloud security knowledge and skills; securing cloud environments as well as detecting and responding to cyber security incidents in the cloudLog (network, security, access, OS, application, etc.) analysis skills and experience in relation to identifying and investigating security incidentsProficiency with Windows, Mac OSX and LinuxUnderstanding of application security and dev-sec-opsCoding/scripting experience (PowerShell, Python, Ruby, Java, VB Scripting etc.)Malware analysis, virus exploitation and mitigation techniques experience.The ability to learn and apply new concepts quicklyResolves problems independently and/or through a support teamKnowledge of ITIL best practices and process improvementsAbility to balance and prioritize workMust be trustworthy in keeping sensitive data confidentialAdditional skills and qualifications preferred, but not required.One or more of the following professional certificationsCertified Information Security Professional (CISSP)Global Information Assurance Certifications (GIAC)Education and ExperienceRequires a Bachelor’s degree in computer science or related field, or equivalent work experienceFive years of information technology experience with three years in an information security-related roleNIKE, Inc. ist ein Wachstumsunternehmen, das nach Mitarbeiterinnen und Mitarbeitern sucht, die mit uns wachsen möchten. Nike bietet ein großzügiges Leistungspaket, ein ungezwungenes Arbeitsumfeld, eine vielfältige und inklusive Unternehmenskultur und eine Atmosphäre, die berufliche Weiterentwicklung begünstigt. Unabhängig von Standort und Rolle verfolgen alle Beschäftigten von Nike gemeinsam ein Ziel: Jedem Athleten* der Welt Inspiration und Innovation zu bringen.NIKE, Inc. legt bei der Auswahl seiner Mitarbeiter Wert auf Vielfalt. Wir prüfen qualifizierte Bewerber ohne Berücksichtigung von ethnischer Zugehörigkeit, Herkunft, Religion, Nationalität, Alter, sexueller Orientierung, Geschlecht, Geschlechtsidentität, Veteranenstatus und Behinderung.Unser EinstellungsverfahrenWir bei NIKE, Inc. sind darauf bedacht, ein erstklassiges, integratives, spannendes und authentisches Bewerbungsverfahren zu bieten. Das heißt: Wir wollen, dass du dich von deiner besten Seite zeigen kannst. Dazu solltest du wissen, wie unser Einstellungsverfahren funktioniert. Transparenz ist der Schlüssel.\n",
      "\n",
      "*In dieser Übersicht wird unser Einstellungsverfahren für unternehmensinterne Rollen erläutert. Beachte, dass für nicht unternehmensinterne Rollen möglicherweise abweichende Einstellungsschritte erforderlich sind.Jetzt anfangenLeistungenVon der Mobilität bis hin zu finanzieller Sicherheit: Wir investieren fortwährend in unsere Mitarbeiter, um ihnen dabei zu helfen, Großes zu leisten – am Arbeitsplatz und darüber hinaus. All unsere Mitarbeiter sollen in der Lage sein, ihr volles Potenzial auszuschöpfen.Mitarbeiterberatung und ‑unterstützungUrlaubKrankenversicherungBezahlter UrlaubRabatt auf ProdukteMehr erfahrenGESCHENKGUTSCHEINESTORE SUCHENNIKE JOURNALMEMBER WERDENSTUDENTENRABATTFEEDBACKAKTIONSCODESHILFEHILFEBestellstatusVersand und LieferungRückgabeZahlungsoptionenKontaktNike Aktionscodes - HilfeÜBER NIKEÜBER NIKENeuigkeitenKarriereInvestorenNachhaltigkeitNIKE APPSNIKE APPSNike AppNike Run ClubNike Training ClubSNKRSDeutschland© 2024 Nike, Inc. Alle Rechte vorbehaltenGuidesNike AdaptNike FlyEaseNike FreeNike VaporflyNBA-FanausrüstungNike AirNike FlyknitNike PegasusNike Zoom FlyFactory StoreNike Air MaxNike FlyleatherNike ReactNike ZoomXKids AirtopiaNutzungsbedingungenVerkaufsbedingungenImpressumDatenschutzrichtlinie und Cookie-ErklärungCookie-Einstellungen ändern.\n"
     ]
    }
   ],
   "source": [
    "from langchain_community.document_loaders import WebBaseLoader\n",
    "\n",
    "loader = WebBaseLoader(\"https://jobs.nike.com/job/R-36945\")\n",
    "page_data = loader.load().pop().page_content\n",
    "print(page_data)"
   ]
  },
  {
   "cell_type": "code",
   "execution_count": 6,
   "metadata": {},
   "outputs": [
    {
     "name": "stdout",
     "output_type": "stream",
     "text": [
      "```json\n",
      "{\n",
      "  \"role\": \"Lead Cyber Defense Incident Responder\",\n",
      "  \"experience\": \"Minimum five years of security monitoring experience and incident response activities; preferably within a professional services firm or similar environment\",\n",
      "  \"skills\": [\n",
      "    \"Solid knowledge of information security principles and practice\",\n",
      "    \"Strong knowledge of incident response and crisis management\",\n",
      "    \"Cloud security knowledge and skills\",\n",
      "    \"Log (network, security, access, OS, application, etc.) analysis skills\",\n",
      "    \"Proficiency with Windows, Mac OSX and Linux\",\n",
      "    \"Understanding of application security and dev-sec-ops\",\n",
      "    \"Coding/scripting experience (PowerShell, Python, Ruby, Java, VB Scripting etc.)\",\n",
      "    \"Malware analysis, virus exploitation and mitigation techniques experience\"\n",
      "  ],\n",
      "  \"description\": \"The Lead Cyber Defense Incident Responder will be responsible for identifying, containing and eradicating cyber security incidents. This position uses a wide range of tools and experience to perform the incident response functions, focusing primarily on cloud security, application security and Unix/Linux operating systems.\"\n",
      "}\n",
      "```\n"
     ]
    }
   ],
   "source": [
    "from langchain_core.prompts import PromptTemplate\n",
    "\n",
    "prompt_extract = PromptTemplate.from_template(\n",
    "        \"\"\"\n",
    "        ### SCRAPED TEXT FROM WEBSITE:\n",
    "        {page_data}\n",
    "        ### INSTRUCTION:\n",
    "        The scraped text is from the career's page of a website.\n",
    "        Your job is to extract the job postings and return them in JSON format containing the \n",
    "        following keys: `role`, `experience`, `skills` and `description`.\n",
    "        Only return the valid JSON.\n",
    "        ### VALID JSON (NO PREAMBLE):    \n",
    "        \"\"\"\n",
    ")\n",
    "\n",
    "chain_extract = prompt_extract | llm\n",
    "res = chain_extract.invoke(input={'page_data':page_data})\n",
    "print(res.content)\n"
   ]
  },
  {
   "cell_type": "code",
   "execution_count": 7,
   "metadata": {},
   "outputs": [
    {
     "data": {
      "text/plain": [
       "str"
      ]
     },
     "execution_count": 7,
     "metadata": {},
     "output_type": "execute_result"
    }
   ],
   "source": [
    "type(res.content)"
   ]
  },
  {
   "cell_type": "code",
   "execution_count": 8,
   "metadata": {},
   "outputs": [
    {
     "data": {
      "text/plain": [
       "{'role': 'Lead Cyber Defense Incident Responder',\n",
       " 'experience': 'Minimum five years of security monitoring experience and incident response activities; preferably within a professional services firm or similar environment',\n",
       " 'skills': ['Solid knowledge of information security principles and practice',\n",
       "  'Strong knowledge of incident response and crisis management',\n",
       "  'Cloud security knowledge and skills',\n",
       "  'Log (network, security, access, OS, application, etc.) analysis skills',\n",
       "  'Proficiency with Windows, Mac OSX and Linux',\n",
       "  'Understanding of application security and dev-sec-ops',\n",
       "  'Coding/scripting experience (PowerShell, Python, Ruby, Java, VB Scripting etc.)',\n",
       "  'Malware analysis, virus exploitation and mitigation techniques experience'],\n",
       " 'description': 'The Lead Cyber Defense Incident Responder will be responsible for identifying, containing and eradicating cyber security incidents. This position uses a wide range of tools and experience to perform the incident response functions, focusing primarily on cloud security, application security and Unix/Linux operating systems.'}"
      ]
     },
     "execution_count": 8,
     "metadata": {},
     "output_type": "execute_result"
    }
   ],
   "source": [
    "from langchain_core.output_parsers import JsonOutputParser\n",
    "\n",
    "json_parser = JsonOutputParser()\n",
    "json_res = json_parser.parse(res.content)\n",
    "json_res"
   ]
  },
  {
   "cell_type": "code",
   "execution_count": 9,
   "metadata": {},
   "outputs": [
    {
     "data": {
      "text/plain": [
       "dict"
      ]
     },
     "execution_count": 9,
     "metadata": {},
     "output_type": "execute_result"
    }
   ],
   "source": [
    "type(json_res)"
   ]
  },
  {
   "cell_type": "code",
   "execution_count": 13,
   "metadata": {},
   "outputs": [],
   "source": [
    "import pandas as pd\n",
    "\n",
    "df = pd.read_csv(\"my_portfolio.csv\")"
   ]
  },
  {
   "cell_type": "code",
   "execution_count": 15,
   "metadata": {},
   "outputs": [],
   "source": [
    "import chromadb\n",
    "chroma_client = chromadb.PersistentClient('vectorstore')\n",
    "collection = chroma_client.get_or_create_collection(name=\"portfolio\")"
   ]
  },
  {
   "cell_type": "code",
   "execution_count": 16,
   "metadata": {},
   "outputs": [],
   "source": [
    "import uuid\n",
    "\n",
    "if not collection.count():\n",
    "    for _, row in df.iterrows():\n",
    "        collection.add(documents=row[\"Techstack\"], metadatas={\"links\":row[\"Links\"]}, ids = [str(uuid.uuid4())])"
   ]
  },
  {
   "cell_type": "code",
   "execution_count": 17,
   "metadata": {},
   "outputs": [
    {
     "data": {
      "text/plain": [
       "['Solid knowledge of information security principles and practice',\n",
       " 'Strong knowledge of incident response and crisis management',\n",
       " 'Cloud security knowledge and skills',\n",
       " 'Log (network, security, access, OS, application, etc.) analysis skills',\n",
       " 'Proficiency with Windows, Mac OSX and Linux',\n",
       " 'Understanding of application security and dev-sec-ops',\n",
       " 'Coding/scripting experience (PowerShell, Python, Ruby, Java, VB Scripting etc.)',\n",
       " 'Malware analysis, virus exploitation and mitigation techniques experience']"
      ]
     },
     "execution_count": 17,
     "metadata": {},
     "output_type": "execute_result"
    }
   ],
   "source": [
    "job = json_res\n",
    "job['skills']"
   ]
  },
  {
   "cell_type": "code",
   "execution_count": 18,
   "metadata": {},
   "outputs": [
    {
     "data": {
      "text/plain": [
       "[[{'links': 'https://example.com/ios-portfolio'},\n",
       "  {'links': 'https://example.com/angular-portfolio'}],\n",
       " [{'links': 'https://example.com/ml-python-portfolio'},\n",
       "  {'links': 'https://example.com/ios-portfolio'}],\n",
       " [{'links': 'https://example.com/xamarin-portfolio'},\n",
       "  {'links': 'https://example.com/devops-portfolio'}],\n",
       " [{'links': 'https://example.com/ml-python-portfolio'},\n",
       "  {'links': 'https://example.com/android-portfolio'}],\n",
       " [{'links': 'https://example.com/xamarin-portfolio'},\n",
       "  {'links': 'https://example.com/ml-python-portfolio'}],\n",
       " [{'links': 'https://example.com/devops-portfolio'},\n",
       "  {'links': 'https://example.com/ios-ar-portfolio'}],\n",
       " [{'links': 'https://example.com/vue-portfolio'},\n",
       "  {'links': 'https://example.com/magento-portfolio'}],\n",
       " [{'links': 'https://example.com/ml-python-portfolio'},\n",
       "  {'links': 'https://example.com/magento-portfolio'}]]"
      ]
     },
     "execution_count": 18,
     "metadata": {},
     "output_type": "execute_result"
    }
   ],
   "source": [
    "links = collection.query(\n",
    "    query_texts=job['skills'], # Chroma will embed this for you\n",
    "    n_results=2 # how many results to return #ecuclidien distance\n",
    ").get('metadatas',[])\n",
    "links"
   ]
  },
  {
   "cell_type": "code",
   "execution_count": 19,
   "metadata": {},
   "outputs": [
    {
     "name": "stdout",
     "output_type": "stream",
     "text": [
      "Subject: Expert Cyber Defense Incident Response Solutions for Your Organization\n",
      "\n",
      "Dear Hiring Manager,\n",
      "\n",
      "I came across the job posting for a Lead Cyber Defense Incident Responder and was impressed by the organization's commitment to robust cybersecurity measures. As a Business Development Executive at ABC, I'd like to introduce our company as a trusted partner in providing top-notch incident response solutions.\n",
      "\n",
      "Our team at ABC has extensive experience in developing and implementing cutting-edge cybersecurity solutions, leveraging the latest technologies to ensure the security and integrity of our clients' systems. With a strong focus on cloud security, application security, and Unix/Linux operating systems, we're confident that our expertise aligns with your organization's needs.\n",
      "\n",
      "Our portfolio showcases our capabilities in:\n",
      "\n",
      "* DevOps solutions, ensuring seamless integration and automation of security processes (https://example.com/devops-portfolio)\n",
      "* Machine Learning and Python development, enabling advanced threat detection and incident response (https://example.com/ml-python-portfolio)\n",
      "\n",
      "Our team is well-versed in the skills required for the Lead Cyber Defense Incident Responder role, including:\n",
      "\n",
      "* Solid knowledge of information security principles and practices\n",
      "* Strong knowledge of incident response and crisis management\n",
      "* Cloud security knowledge and skills\n",
      "* Log analysis skills\n",
      "* Proficiency with Windows, Mac OSX, and Linux\n",
      "* Understanding of application security and dev-sec-ops\n",
      "* Coding/scripting experience (PowerShell, Python, Ruby, Java, VB Scripting, etc.)\n",
      "\n",
      "We'd be delighted to discuss how our expertise can support your organization's cybersecurity goals. Please feel free to reply to this email or schedule a call at your convenience.\n",
      "\n",
      "Best regards,\n",
      "\n",
      "Stefy\n",
      "Business Development Executive\n",
      "ABC\n"
     ]
    }
   ],
   "source": [
    "prompt_email = PromptTemplate.from_template(\n",
    "        \"\"\"\n",
    "        ### JOB DESCRIPTION:\n",
    "        {job_description}\n",
    "        \n",
    "        ### INSTRUCTION:\n",
    "        You are Stefy, a business development executive at ABC. ABC is an AI & Software Consulting company dedicated to facilitating\n",
    "        the seamless integration of business processes through automated tools. \n",
    "        Over our experience, we have empowered numerous enterprises with tailored solutions, fostering scalability, \n",
    "        process optimization, cost reduction, and heightened overall efficiency. \n",
    "        Your job is to write a cold email to the client regarding the job mentioned above describing the capability of ABC \n",
    "        in fulfilling their needs.\n",
    "        Also add the most relevant ones from the following links to showcase ABC's portfolio: {link_list}\n",
    "        Remember you are Stefy, BDE at ABC. \n",
    "        Do not provide a preamble.\n",
    "        ### EMAIL (NO PREAMBLE):\n",
    "        \n",
    "        \"\"\"\n",
    "        )\n",
    "\n",
    "chain_email = prompt_email | llm\n",
    "res = chain_email.invoke({\"job_description\": str(job), \"link_list\": links})\n",
    "print(res.content)"
   ]
  }
 ],
 "metadata": {
  "kernelspec": {
   "display_name": "llm_env",
   "language": "python",
   "name": "python3"
  },
  "language_info": {
   "codemirror_mode": {
    "name": "ipython",
    "version": 3
   },
   "file_extension": ".py",
   "mimetype": "text/x-python",
   "name": "python",
   "nbconvert_exporter": "python",
   "pygments_lexer": "ipython3",
   "version": "3.12.5"
  }
 },
 "nbformat": 4,
 "nbformat_minor": 2
}
